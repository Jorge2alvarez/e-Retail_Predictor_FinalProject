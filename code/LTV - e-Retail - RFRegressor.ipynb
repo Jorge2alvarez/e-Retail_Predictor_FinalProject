{
 "cells": [
  {
   "cell_type": "markdown",
   "metadata": {},
   "source": [
    "# 1- Import Libraries & Setup Kernel"
   ]
  },
  {
   "cell_type": "code",
   "execution_count": 1,
   "metadata": {},
   "outputs": [],
   "source": [
    "# Librerías de Dataset y procesamiento\n",
    "import pandas as pd\n",
    "import numpy as np\n",
    "from datetime import datetime, timedelta\n",
    "\n",
    "# Librerías para plotear\n",
    "%matplotlib inline\n",
    "import matplotlib.pyplot as plt\n",
    "import seaborn as sns\n",
    "sns.set_style(\"darkgrid\")\n",
    "\n",
    "# Configuración de Pandas\n",
    "pd.set_option('display.max_rows', 500)\n",
    "pd.set_option('display.max_columns', 500)\n",
    "pd.set_option('display.width', 1000)\n",
    "\n",
    "#Librerías ML \n",
    "from sklearn.cluster import KMeans"
   ]
  },
  {
   "cell_type": "markdown",
   "metadata": {},
   "source": [
    "# 2- Import & Explore\n"
   ]
  },
  {
   "cell_type": "code",
   "execution_count": 2,
   "metadata": {},
   "outputs": [],
   "source": [
    "# Crear un DataFrame llamado \"data\" para importar el CSV\n",
    "data = pd.read_csv('../data/OnlineRetail-02.csv')\n",
    "\n",
    "# Convertir InvoiceDate a formato fecha\n",
    "data[\"InvoiceDate\"] = pd.to_datetime(data[\"InvoiceDate\"])"
   ]
  },
  {
   "cell_type": "code",
   "execution_count": 3,
   "metadata": {},
   "outputs": [
    {
     "data": {
      "text/html": [
       "<div>\n",
       "<style scoped>\n",
       "    .dataframe tbody tr th:only-of-type {\n",
       "        vertical-align: middle;\n",
       "    }\n",
       "\n",
       "    .dataframe tbody tr th {\n",
       "        vertical-align: top;\n",
       "    }\n",
       "\n",
       "    .dataframe thead th {\n",
       "        text-align: right;\n",
       "    }\n",
       "</style>\n",
       "<table border=\"1\" class=\"dataframe\">\n",
       "  <thead>\n",
       "    <tr style=\"text-align: right;\">\n",
       "      <th></th>\n",
       "      <th>CustomerID</th>\n",
       "      <th>Country</th>\n",
       "      <th>InvoiceNo</th>\n",
       "      <th>InvoiceDate</th>\n",
       "      <th>Description</th>\n",
       "      <th>Quantity</th>\n",
       "      <th>UnitPrice</th>\n",
       "      <th>TotalPrice</th>\n",
       "      <th>FirstInvoice</th>\n",
       "      <th>InvoiceYear</th>\n",
       "      <th>InvoiceMonth</th>\n",
       "      <th>InvoiceWeekYear</th>\n",
       "      <th>InvoiceDayYear</th>\n",
       "      <th>InvoiceDayWeek</th>\n",
       "      <th>InvoiceHour</th>\n",
       "      <th>InvoiceTimestamp</th>\n",
       "    </tr>\n",
       "  </thead>\n",
       "  <tbody>\n",
       "    <tr>\n",
       "      <th>0</th>\n",
       "      <td>17850.0</td>\n",
       "      <td>United Kingdom</td>\n",
       "      <td>536365</td>\n",
       "      <td>2010-12-01 08:26:00</td>\n",
       "      <td>white hanging heart t-light holder</td>\n",
       "      <td>6</td>\n",
       "      <td>2.55</td>\n",
       "      <td>15.30</td>\n",
       "      <td>1</td>\n",
       "      <td>2010</td>\n",
       "      <td>12</td>\n",
       "      <td>48</td>\n",
       "      <td>335</td>\n",
       "      <td>2</td>\n",
       "      <td>8</td>\n",
       "      <td>1291188360</td>\n",
       "    </tr>\n",
       "    <tr>\n",
       "      <th>1</th>\n",
       "      <td>17850.0</td>\n",
       "      <td>United Kingdom</td>\n",
       "      <td>536365</td>\n",
       "      <td>2010-12-01 08:26:00</td>\n",
       "      <td>white metal lantern</td>\n",
       "      <td>6</td>\n",
       "      <td>3.39</td>\n",
       "      <td>20.34</td>\n",
       "      <td>1</td>\n",
       "      <td>2010</td>\n",
       "      <td>12</td>\n",
       "      <td>48</td>\n",
       "      <td>335</td>\n",
       "      <td>2</td>\n",
       "      <td>8</td>\n",
       "      <td>1291188360</td>\n",
       "    </tr>\n",
       "    <tr>\n",
       "      <th>2</th>\n",
       "      <td>17850.0</td>\n",
       "      <td>United Kingdom</td>\n",
       "      <td>536365</td>\n",
       "      <td>2010-12-01 08:26:00</td>\n",
       "      <td>cream cupid hearts coat hanger</td>\n",
       "      <td>8</td>\n",
       "      <td>2.75</td>\n",
       "      <td>22.00</td>\n",
       "      <td>1</td>\n",
       "      <td>2010</td>\n",
       "      <td>12</td>\n",
       "      <td>48</td>\n",
       "      <td>335</td>\n",
       "      <td>2</td>\n",
       "      <td>8</td>\n",
       "      <td>1291188360</td>\n",
       "    </tr>\n",
       "    <tr>\n",
       "      <th>3</th>\n",
       "      <td>17850.0</td>\n",
       "      <td>United Kingdom</td>\n",
       "      <td>536365</td>\n",
       "      <td>2010-12-01 08:26:00</td>\n",
       "      <td>knitted union flag hot water bottle</td>\n",
       "      <td>6</td>\n",
       "      <td>3.39</td>\n",
       "      <td>20.34</td>\n",
       "      <td>1</td>\n",
       "      <td>2010</td>\n",
       "      <td>12</td>\n",
       "      <td>48</td>\n",
       "      <td>335</td>\n",
       "      <td>2</td>\n",
       "      <td>8</td>\n",
       "      <td>1291188360</td>\n",
       "    </tr>\n",
       "    <tr>\n",
       "      <th>4</th>\n",
       "      <td>17850.0</td>\n",
       "      <td>United Kingdom</td>\n",
       "      <td>536365</td>\n",
       "      <td>2010-12-01 08:26:00</td>\n",
       "      <td>red woolly hottie white heart.</td>\n",
       "      <td>6</td>\n",
       "      <td>3.39</td>\n",
       "      <td>20.34</td>\n",
       "      <td>1</td>\n",
       "      <td>2010</td>\n",
       "      <td>12</td>\n",
       "      <td>48</td>\n",
       "      <td>335</td>\n",
       "      <td>2</td>\n",
       "      <td>8</td>\n",
       "      <td>1291188360</td>\n",
       "    </tr>\n",
       "  </tbody>\n",
       "</table>\n",
       "</div>"
      ],
      "text/plain": [
       "   CustomerID         Country  InvoiceNo         InvoiceDate                          Description  Quantity  UnitPrice  TotalPrice  FirstInvoice  InvoiceYear  InvoiceMonth  InvoiceWeekYear  InvoiceDayYear  InvoiceDayWeek  InvoiceHour  InvoiceTimestamp\n",
       "0     17850.0  United Kingdom     536365 2010-12-01 08:26:00   white hanging heart t-light holder         6       2.55       15.30             1         2010            12               48             335               2            8        1291188360\n",
       "1     17850.0  United Kingdom     536365 2010-12-01 08:26:00                  white metal lantern         6       3.39       20.34             1         2010            12               48             335               2            8        1291188360\n",
       "2     17850.0  United Kingdom     536365 2010-12-01 08:26:00       cream cupid hearts coat hanger         8       2.75       22.00             1         2010            12               48             335               2            8        1291188360\n",
       "3     17850.0  United Kingdom     536365 2010-12-01 08:26:00  knitted union flag hot water bottle         6       3.39       20.34             1         2010            12               48             335               2            8        1291188360\n",
       "4     17850.0  United Kingdom     536365 2010-12-01 08:26:00       red woolly hottie white heart.         6       3.39       20.34             1         2010            12               48             335               2            8        1291188360"
      ]
     },
     "execution_count": 3,
     "metadata": {},
     "output_type": "execute_result"
    }
   ],
   "source": [
    "data.head()"
   ]
  },
  {
   "cell_type": "markdown",
   "metadata": {},
   "source": [
    "# 3- Amount of New Customers by Months"
   ]
  },
  {
   "cell_type": "code",
   "execution_count": 4,
   "metadata": {},
   "outputs": [],
   "source": [
    "customers_finvoice = data[data.InvoiceYear == 2011].groupby(['InvoiceMonth', 'FirstInvoice']).CustomerID.agg(['nunique']).reset_index()\n",
    "\n",
    "new_c = customers_finvoice[customers_finvoice.FirstInvoice == 1]\n",
    "old_c = customers_finvoice[customers_finvoice.FirstInvoice == 0]"
   ]
  },
  {
   "cell_type": "code",
   "execution_count": 5,
   "metadata": {},
   "outputs": [
    {
     "data": {
      "image/png": "[encoded data removed]",
      "text/plain": [
       "<Figure size 1152x432 with 1 Axes>"
      ]
     },
     "metadata": {
      "needs_background": "light"
     },
     "output_type": "display_data"
    }
   ],
   "source": [
    "# data['InvoiceYearDAY'] = data['InvoiceDate'].map(lambda date: 100*date.year + date.week)\n",
    "\n",
    "# insights = pd.pivot_table(data, index=['InvoiceYear','InvoiceYearDAY','FirstInvoice'], \n",
    "#                           values=['TotalPrice'], aggfunc={'TotalPrice': np.sum}).reset_index()\n",
    "\n",
    "plt.figure(figsize=(16, 6))\n",
    "plt.plot('InvoiceMonth', 'nunique', label='New Customer', \n",
    "         data=new_c, color='steelblue', linewidth=2)\n",
    "plt.plot('InvoiceMonth', 'nunique', label='Old Customer', \n",
    "         data=old_c, color='orange', linewidth=2)\n",
    "\n",
    "plt.legend(loc='upper right')\n",
    "plt.show()\n",
    "\n"
   ]
  },
  {
   "cell_type": "markdown",
   "metadata": {},
   "source": [
    "# 4- RFM Clulsters"
   ]
  },
  {
   "cell_type": "code",
   "execution_count": null,
   "metadata": {},
   "outputs": [],
   "source": [
    "# Make a DF with the last purchase date for each customer\n",
    "df_customers = data.groupby('CustomerID').InvoiceDate.max().reset_index()\n",
    "df_customers.columns = ['CustomerID','LastPurchaseDate']\n",
    "\n",
    "# Calculate inactivity days for each CustomerID\n",
    "df_customers['Recency'] = (df_customers.LastPurchaseDate.max() - df_customers.LastPurchaseDate).dt.days"
   ]
  },
  {
   "cell_type": "code",
   "execution_count": 6,
   "metadata": {},
   "outputs": [
    {
     "data": {
      "text/html": [
       "<div>\n",
       "<style scoped>\n",
       "    .dataframe tbody tr th:only-of-type {\n",
       "        vertical-align: middle;\n",
       "    }\n",
       "\n",
       "    .dataframe tbody tr th {\n",
       "        vertical-align: top;\n",
       "    }\n",
       "\n",
       "    .dataframe thead th {\n",
       "        text-align: right;\n",
       "    }\n",
       "</style>\n",
       "<table border=\"1\" class=\"dataframe\">\n",
       "  <thead>\n",
       "    <tr style=\"text-align: right;\">\n",
       "      <th></th>\n",
       "      <th>CustomerID</th>\n",
       "      <th>InvoiceNo</th>\n",
       "      <th>InvoiceDate</th>\n",
       "      <th>Revenue</th>\n",
       "    </tr>\n",
       "  </thead>\n",
       "  <tbody>\n",
       "    <tr>\n",
       "      <th>0</th>\n",
       "      <td>12346.0</td>\n",
       "      <td>541431</td>\n",
       "      <td>2011-01-18 10:01:00</td>\n",
       "      <td>77183.60</td>\n",
       "    </tr>\n",
       "    <tr>\n",
       "      <th>1</th>\n",
       "      <td>12347.0</td>\n",
       "      <td>537626</td>\n",
       "      <td>2010-12-07 14:57:00</td>\n",
       "      <td>711.79</td>\n",
       "    </tr>\n",
       "    <tr>\n",
       "      <th>2</th>\n",
       "      <td>12347.0</td>\n",
       "      <td>542237</td>\n",
       "      <td>2011-01-26 14:30:00</td>\n",
       "      <td>475.39</td>\n",
       "    </tr>\n",
       "    <tr>\n",
       "      <th>3</th>\n",
       "      <td>12347.0</td>\n",
       "      <td>549222</td>\n",
       "      <td>2011-04-07 10:43:00</td>\n",
       "      <td>636.25</td>\n",
       "    </tr>\n",
       "    <tr>\n",
       "      <th>4</th>\n",
       "      <td>12347.0</td>\n",
       "      <td>556201</td>\n",
       "      <td>2011-06-09 13:01:00</td>\n",
       "      <td>382.52</td>\n",
       "    </tr>\n",
       "  </tbody>\n",
       "</table>\n",
       "</div>"
      ],
      "text/plain": [
       "   CustomerID  InvoiceNo         InvoiceDate   Revenue\n",
       "0     12346.0     541431 2011-01-18 10:01:00  77183.60\n",
       "1     12347.0     537626 2010-12-07 14:57:00    711.79\n",
       "2     12347.0     542237 2011-01-26 14:30:00    475.39\n",
       "3     12347.0     549222 2011-04-07 10:43:00    636.25\n",
       "4     12347.0     556201 2011-06-09 13:01:00    382.52"
      ]
     },
     "execution_count": 6,
     "metadata": {},
     "output_type": "execute_result"
    }
   ],
   "source": [
    "model_df = data.groupby('CustomerID').InvoiceDate.min().reset_index()\n",
    "model_df.columns = ['CustomerID','FirstPurchaseDate']\n",
    "\n",
    "#Amount of Invoices\n",
    "model_invoices = data.groupby(['CustomerID','InvoiceNo', 'InvoiceDate']).TotalPrice.agg(['sum']).reset_index()\n",
    "model_invoices.columns = ['CustomerID','InvoiceNo', 'InvoiceDate', 'Revenue']\n",
    "\n",
    "model_invoices.head()"
   ]
  },
  {
   "cell_type": "code",
   "execution_count": 7,
   "metadata": {
    "scrolled": true
   },
   "outputs": [
    {
     "name": "stderr",
     "output_type": "stream",
     "text": [
      "C:\\Users\\Chorch\\Anaconda3\\lib\\site-packages\\ipykernel_launcher.py:10: SettingWithCopyWarning: \n",
      "A value is trying to be set on a copy of a slice from a DataFrame\n",
      "\n",
      "See the caveats in the documentation: http://pandas.pydata.org/pandas-docs/stable/indexing.html#indexing-view-versus-copy\n",
      "  # Remove the CWD from sys.path while we load stuff.\n",
      "C:\\Users\\Chorch\\Anaconda3\\lib\\site-packages\\ipykernel_launcher.py:10: SettingWithCopyWarning: \n",
      "A value is trying to be set on a copy of a slice from a DataFrame\n",
      "\n",
      "See the caveats in the documentation: http://pandas.pydata.org/pandas-docs/stable/indexing.html#indexing-view-versus-copy\n",
      "  # Remove the CWD from sys.path while we load stuff.\n"
     ]
    }
   ],
   "source": [
    "# Contar dias entre invoices\n",
    "list_invoices = model_invoices.InvoiceNo\n",
    "model_invoices['days_firstInvoice'] = 0\n",
    "\n",
    "for invoice in list_invoices:\n",
    "    date_invoices = model_invoices.InvoiceDate[model_invoices.InvoiceNo == invoice]\n",
    "    get_user = float(model_invoices.CustomerID[model_invoices.InvoiceNo == invoice].unique())\n",
    "    first_purchase = model_invoices.InvoiceDate[model_invoices.CustomerID == get_user].min()\n",
    "    days = (date_invoices - first_purchase).dt.days\n",
    "    model_invoices.days_firstInvoice[model_invoices.InvoiceNo == invoice] = days\n"
   ]
  },
  {
   "cell_type": "markdown",
   "metadata": {},
   "source": [
    "---\n",
    "# Recency (Final)\n",
    "\n",
    "Function to get the \"Recency value\" of  customers by each months, and also invert results to determine that high value as the most valuable\n",
    "\n",
    "**Formula**: (Fisrt_Invoices_Date + 30 days - Last_Inovice_Date)<br>"
   ]
  },
  {
   "cell_type": "code",
   "execution_count": 8,
   "metadata": {},
   "outputs": [],
   "source": [
    "def recency_1M(customer):\n",
    "    day = 30\n",
    "    finaldate = model_invoices.InvoiceDate[(model_invoices.CustomerID == customer) & (model_invoices.days_firstInvoice <= day)].min() + timedelta(days=day) \n",
    "    last_invoices = model_invoices.InvoiceDate[(model_invoices.CustomerID == customer) & (model_invoices.days_firstInvoice <= day)].max()\n",
    "    return -((finaldate - last_invoices).days)\n",
    "\n",
    "def recency_2M(customer):\n",
    "    day = 60\n",
    "    finaldate = model_invoices.InvoiceDate[(model_invoices.CustomerID == customer) & (model_invoices.days_firstInvoice <= day)].min() + timedelta(days=day) \n",
    "    last_invoices = model_invoices.InvoiceDate[(model_invoices.CustomerID == customer) & (model_invoices.days_firstInvoice <= day)].max()\n",
    "    return -((finaldate - last_invoices).days)    \n",
    "#     return -((finaldate - (last_invoices + timedelta(days=30))).days)\n",
    "\n",
    "def recency_3M(customer):\n",
    "    day = 90\n",
    "    finaldate = model_invoices.InvoiceDate[(model_invoices.CustomerID == customer) & (model_invoices.days_firstInvoice <= day)].min() + timedelta(days=day) \n",
    "    last_invoices = model_invoices.InvoiceDate[(model_invoices.CustomerID == customer) & (model_invoices.days_firstInvoice <= day)].max()\n",
    "    return -((finaldate - last_invoices).days)\n",
    "#     return -((finaldate - (last_invoices + timedelta(days=60))).days)\n",
    "\n",
    "\n",
    "def recency_4M(customer):\n",
    "    day = 120\n",
    "    finaldate = model_invoices.InvoiceDate[(model_invoices.CustomerID == customer) & (model_invoices.days_firstInvoice <= day)].min() + timedelta(days=day) \n",
    "    last_invoices = model_invoices.InvoiceDate[(model_invoices.CustomerID == customer) & (model_invoices.days_firstInvoice <= day)].max()\n",
    "    return -((finaldate - last_invoices).days)\n",
    "#     return -((finaldate - (last_invoices + timedelta(days=90))).days)\n",
    "\n",
    "model_invoices['Recency_1M'] = model_invoices.CustomerID.apply(recency_1M)\n",
    "model_invoices['Recency_2M'] = model_invoices.CustomerID.apply(recency_2M)\n",
    "model_invoices['Recency_3M'] = model_invoices.CustomerID.apply(recency_3M)\n",
    "model_invoices['Recency_4M'] = model_invoices.CustomerID.apply(recency_4M)"
   ]
  },
  {
   "cell_type": "markdown",
   "metadata": {},
   "source": [
    "---\n",
    "# Frequency (Final)\n",
    "\n",
    "Function to get the \"Frequency value\" of  customers by each months, and also invert results to determine that high value as the most valuable.\n",
    "\n",
    "**Formula**: -(Days / Amonut of Invoices)"
   ]
  },
  {
   "cell_type": "code",
   "execution_count": 9,
   "metadata": {},
   "outputs": [],
   "source": [
    "def frequency_1M(customer):\n",
    "    day = 30\n",
    "    n_invoices = len(model_invoices[(model_invoices.CustomerID == customer) & (model_invoices.days_firstInvoice <= day)])\n",
    "    if n_invoices == 0:\n",
    "        return -(round(day / 1))\n",
    "    else:\n",
    "        return -(round(day / n_invoices))\n",
    "\n",
    "def frequency_2M(customer):\n",
    "    day = 60\n",
    "    n_invoices = len(model_invoices[(model_invoices.CustomerID == customer) & (model_invoices.days_firstInvoice <= day) & (model_invoices.days_firstInvoice >= 30)])\n",
    "    if n_invoices == 0:\n",
    "        return -(round((day - 30) / 1))\n",
    "    else:\n",
    "        return -(round((day - 30) / n_invoices))\n",
    "    \n",
    "def frequency_3M(customer):\n",
    "    day = 90\n",
    "    n_invoices = len(model_invoices[(model_invoices.CustomerID == customer) & (model_invoices.days_firstInvoice <= day) & (model_invoices.days_firstInvoice >= 60)])\n",
    "    if n_invoices == 0:\n",
    "        return -(round((day - 60) / 1))\n",
    "    else:\n",
    "        return -(round((day - 60) / n_invoices))\n",
    "    \n",
    "def frequency_4M(customer):\n",
    "    day = 120\n",
    "    n_invoices = len(model_invoices[(model_invoices.CustomerID == customer) & (model_invoices.days_firstInvoice <= day) & (model_invoices.days_firstInvoice >= 90)])\n",
    "    if n_invoices == 0:\n",
    "        return -(round((day - 90) / 1))\n",
    "    else:\n",
    "        return -(round((day - 90) / n_invoices))\n",
    "    \n",
    "model_invoices['Frequency_1M'] = model_invoices.CustomerID.apply(frequency_1M)\n",
    "model_invoices['Frequency_2M'] = model_invoices.CustomerID.apply(frequency_2M)\n",
    "model_invoices['Frequency_3M'] = model_invoices.CustomerID.apply(frequency_3M)\n",
    "model_invoices['Frequency_4M'] = model_invoices.CustomerID.apply(frequency_4M)"
   ]
  },
  {
   "cell_type": "markdown",
   "metadata": {},
   "source": [
    "---\n",
    "# Monetary (Final)\n",
    "\n",
    "Function to get the sum of \"Monetary value\" of customers by each months.\n",
    "\n",
    "**Result**: Revenue by each month"
   ]
  },
  {
   "cell_type": "code",
   "execution_count": 10,
   "metadata": {},
   "outputs": [],
   "source": [
    "def monetary_1M(customer):\n",
    "    day = 30\n",
    "    revenue = sum(model_invoices.Revenue[(model_invoices.CustomerID == customer) & (model_invoices.days_firstInvoice <= day)])\n",
    "    n_invoices = len(model_invoices[(model_invoices.CustomerID == customer) & (model_invoices.days_firstInvoice <= day)])\n",
    "    return round(revenue)\n",
    "\n",
    "def monetary_2M(customer):\n",
    "    day = 60\n",
    "    revenue = sum(model_invoices.Revenue[(model_invoices.CustomerID == customer) & (model_invoices.days_firstInvoice <= day) & (model_invoices.days_firstInvoice >= 30)])\n",
    "    n_invoices = len(model_invoices[(model_invoices.CustomerID == customer) & (model_invoices.days_firstInvoice <= day)])\n",
    "    return round(revenue)\n",
    "\n",
    "def monetary_3M(customer):\n",
    "    day = 90\n",
    "    revenue = sum(model_invoices.Revenue[(model_invoices.CustomerID == customer) & (model_invoices.days_firstInvoice <= day) & (model_invoices.days_firstInvoice >= 60)])\n",
    "    n_invoices = len(model_invoices[(model_invoices.CustomerID == customer) & (model_invoices.days_firstInvoice <= day)])\n",
    "    return round(revenue)\n",
    "\n",
    "def monetary_rev(customer):\n",
    "    day = 180\n",
    "    revenue = sum(model_invoices.Revenue[(model_invoices.CustomerID == customer) & (model_invoices.days_firstInvoice <= day)])\n",
    "    n_invoices = len(model_invoices[(model_invoices.CustomerID == customer) & (model_invoices.days_firstInvoice <= day)])\n",
    "    return round(revenue)\n",
    "\n",
    "model_invoices['Monetary_1M'] = model_invoices.CustomerID.apply(monetary_1M)\n",
    "model_invoices['Monetary_2M'] = model_invoices.CustomerID.apply(monetary_2M)\n",
    "model_invoices['Monetary_3M'] = model_invoices.CustomerID.apply(monetary_3M)\n",
    "model_invoices['Revenue'] = model_invoices.CustomerID.apply(monetary_rev)\n"
   ]
  },
  {
   "cell_type": "code",
   "execution_count": 11,
   "metadata": {
    "scrolled": true
   },
   "outputs": [
    {
     "data": {
      "text/html": [
       "<div>\n",
       "<style scoped>\n",
       "    .dataframe tbody tr th:only-of-type {\n",
       "        vertical-align: middle;\n",
       "    }\n",
       "\n",
       "    .dataframe tbody tr th {\n",
       "        vertical-align: top;\n",
       "    }\n",
       "\n",
       "    .dataframe thead th {\n",
       "        text-align: right;\n",
       "    }\n",
       "</style>\n",
       "<table border=\"1\" class=\"dataframe\">\n",
       "  <thead>\n",
       "    <tr style=\"text-align: right;\">\n",
       "      <th></th>\n",
       "      <th>CustomerID</th>\n",
       "      <th>InvoiceNo</th>\n",
       "      <th>InvoiceDate</th>\n",
       "      <th>Revenue</th>\n",
       "      <th>days_firstInvoice</th>\n",
       "      <th>Recency_1M</th>\n",
       "      <th>Recency_2M</th>\n",
       "      <th>Recency_3M</th>\n",
       "      <th>Recency_4M</th>\n",
       "      <th>Frequency_1M</th>\n",
       "      <th>Frequency_2M</th>\n",
       "      <th>Frequency_3M</th>\n",
       "      <th>Frequency_4M</th>\n",
       "      <th>Monetary_1M</th>\n",
       "      <th>Monetary_2M</th>\n",
       "      <th>Monetary_3M</th>\n",
       "    </tr>\n",
       "  </thead>\n",
       "  <tbody>\n",
       "    <tr>\n",
       "      <th>0</th>\n",
       "      <td>12346.0</td>\n",
       "      <td>541431</td>\n",
       "      <td>2011-01-18 10:01:00</td>\n",
       "      <td>77184</td>\n",
       "      <td>0</td>\n",
       "      <td>-30</td>\n",
       "      <td>-60</td>\n",
       "      <td>-90</td>\n",
       "      <td>-120</td>\n",
       "      <td>-30</td>\n",
       "      <td>-30</td>\n",
       "      <td>-30</td>\n",
       "      <td>-30</td>\n",
       "      <td>77184</td>\n",
       "      <td>0</td>\n",
       "      <td>0</td>\n",
       "    </tr>\n",
       "    <tr>\n",
       "      <th>1</th>\n",
       "      <td>12347.0</td>\n",
       "      <td>537626</td>\n",
       "      <td>2010-12-07 14:57:00</td>\n",
       "      <td>1823</td>\n",
       "      <td>0</td>\n",
       "      <td>-30</td>\n",
       "      <td>-10</td>\n",
       "      <td>-40</td>\n",
       "      <td>1</td>\n",
       "      <td>-30</td>\n",
       "      <td>-30</td>\n",
       "      <td>-30</td>\n",
       "      <td>-30</td>\n",
       "      <td>712</td>\n",
       "      <td>475</td>\n",
       "      <td>0</td>\n",
       "    </tr>\n",
       "    <tr>\n",
       "      <th>2</th>\n",
       "      <td>12347.0</td>\n",
       "      <td>542237</td>\n",
       "      <td>2011-01-26 14:30:00</td>\n",
       "      <td>1823</td>\n",
       "      <td>49</td>\n",
       "      <td>-30</td>\n",
       "      <td>-10</td>\n",
       "      <td>-40</td>\n",
       "      <td>1</td>\n",
       "      <td>-30</td>\n",
       "      <td>-30</td>\n",
       "      <td>-30</td>\n",
       "      <td>-30</td>\n",
       "      <td>712</td>\n",
       "      <td>475</td>\n",
       "      <td>0</td>\n",
       "    </tr>\n",
       "    <tr>\n",
       "      <th>3</th>\n",
       "      <td>12347.0</td>\n",
       "      <td>549222</td>\n",
       "      <td>2011-04-07 10:43:00</td>\n",
       "      <td>1823</td>\n",
       "      <td>120</td>\n",
       "      <td>-30</td>\n",
       "      <td>-10</td>\n",
       "      <td>-40</td>\n",
       "      <td>1</td>\n",
       "      <td>-30</td>\n",
       "      <td>-30</td>\n",
       "      <td>-30</td>\n",
       "      <td>-30</td>\n",
       "      <td>712</td>\n",
       "      <td>475</td>\n",
       "      <td>0</td>\n",
       "    </tr>\n",
       "    <tr>\n",
       "      <th>4</th>\n",
       "      <td>12347.0</td>\n",
       "      <td>556201</td>\n",
       "      <td>2011-06-09 13:01:00</td>\n",
       "      <td>1823</td>\n",
       "      <td>183</td>\n",
       "      <td>-30</td>\n",
       "      <td>-10</td>\n",
       "      <td>-40</td>\n",
       "      <td>1</td>\n",
       "      <td>-30</td>\n",
       "      <td>-30</td>\n",
       "      <td>-30</td>\n",
       "      <td>-30</td>\n",
       "      <td>712</td>\n",
       "      <td>475</td>\n",
       "      <td>0</td>\n",
       "    </tr>\n",
       "  </tbody>\n",
       "</table>\n",
       "</div>"
      ],
      "text/plain": [
       "   CustomerID  InvoiceNo         InvoiceDate  Revenue  days_firstInvoice  Recency_1M  Recency_2M  Recency_3M  Recency_4M  Frequency_1M  Frequency_2M  Frequency_3M  Frequency_4M  Monetary_1M  Monetary_2M  Monetary_3M\n",
       "0     12346.0     541431 2011-01-18 10:01:00    77184                  0         -30         -60         -90        -120           -30           -30           -30           -30        77184            0            0\n",
       "1     12347.0     537626 2010-12-07 14:57:00     1823                  0         -30         -10         -40           1           -30           -30           -30           -30          712          475            0\n",
       "2     12347.0     542237 2011-01-26 14:30:00     1823                 49         -30         -10         -40           1           -30           -30           -30           -30          712          475            0\n",
       "3     12347.0     549222 2011-04-07 10:43:00     1823                120         -30         -10         -40           1           -30           -30           -30           -30          712          475            0\n",
       "4     12347.0     556201 2011-06-09 13:01:00     1823                183         -30         -10         -40           1           -30           -30           -30           -30          712          475            0"
      ]
     },
     "execution_count": 11,
     "metadata": {},
     "output_type": "execute_result"
    }
   ],
   "source": [
    "model_invoices.head()"
   ]
  },
  {
   "cell_type": "code",
   "execution_count": 12,
   "metadata": {
    "scrolled": true
   },
   "outputs": [
    {
     "data": {
      "text/html": [
       "<div>\n",
       "<style scoped>\n",
       "    .dataframe tbody tr th:only-of-type {\n",
       "        vertical-align: middle;\n",
       "    }\n",
       "\n",
       "    .dataframe tbody tr th {\n",
       "        vertical-align: top;\n",
       "    }\n",
       "\n",
       "    .dataframe thead th {\n",
       "        text-align: right;\n",
       "    }\n",
       "</style>\n",
       "<table border=\"1\" class=\"dataframe\">\n",
       "  <thead>\n",
       "    <tr style=\"text-align: right;\">\n",
       "      <th></th>\n",
       "      <th>CustomerID</th>\n",
       "      <th>Frequency_1M</th>\n",
       "      <th>Frequency_2M</th>\n",
       "      <th>Frequency_3M</th>\n",
       "      <th>Monetary_1M</th>\n",
       "      <th>Monetary_2M</th>\n",
       "      <th>Monetary_3M</th>\n",
       "      <th>Recency_1M</th>\n",
       "      <th>Recency_2M</th>\n",
       "      <th>Recency_3M</th>\n",
       "      <th>Revenue</th>\n",
       "    </tr>\n",
       "  </thead>\n",
       "  <tbody>\n",
       "    <tr>\n",
       "      <th>0</th>\n",
       "      <td>12346.0</td>\n",
       "      <td>-30</td>\n",
       "      <td>-30</td>\n",
       "      <td>-30</td>\n",
       "      <td>77184</td>\n",
       "      <td>0</td>\n",
       "      <td>0</td>\n",
       "      <td>-30</td>\n",
       "      <td>-60</td>\n",
       "      <td>-90</td>\n",
       "      <td>77184</td>\n",
       "    </tr>\n",
       "    <tr>\n",
       "      <th>1</th>\n",
       "      <td>12347.0</td>\n",
       "      <td>-30</td>\n",
       "      <td>-30</td>\n",
       "      <td>-30</td>\n",
       "      <td>712</td>\n",
       "      <td>475</td>\n",
       "      <td>0</td>\n",
       "      <td>-30</td>\n",
       "      <td>-10</td>\n",
       "      <td>-40</td>\n",
       "      <td>1823</td>\n",
       "    </tr>\n",
       "    <tr>\n",
       "      <th>2</th>\n",
       "      <td>12348.0</td>\n",
       "      <td>-30</td>\n",
       "      <td>-30</td>\n",
       "      <td>-30</td>\n",
       "      <td>893</td>\n",
       "      <td>227</td>\n",
       "      <td>0</td>\n",
       "      <td>-30</td>\n",
       "      <td>-20</td>\n",
       "      <td>-50</td>\n",
       "      <td>1487</td>\n",
       "    </tr>\n",
       "    <tr>\n",
       "      <th>3</th>\n",
       "      <td>12349.0</td>\n",
       "      <td>-30</td>\n",
       "      <td>-30</td>\n",
       "      <td>-30</td>\n",
       "      <td>1758</td>\n",
       "      <td>0</td>\n",
       "      <td>0</td>\n",
       "      <td>-30</td>\n",
       "      <td>-60</td>\n",
       "      <td>-90</td>\n",
       "      <td>1758</td>\n",
       "    </tr>\n",
       "    <tr>\n",
       "      <th>4</th>\n",
       "      <td>12350.0</td>\n",
       "      <td>-30</td>\n",
       "      <td>-30</td>\n",
       "      <td>-30</td>\n",
       "      <td>334</td>\n",
       "      <td>0</td>\n",
       "      <td>0</td>\n",
       "      <td>-30</td>\n",
       "      <td>-60</td>\n",
       "      <td>-90</td>\n",
       "      <td>334</td>\n",
       "    </tr>\n",
       "  </tbody>\n",
       "</table>\n",
       "</div>"
      ],
      "text/plain": [
       "   CustomerID  Frequency_1M  Frequency_2M  Frequency_3M  Monetary_1M  Monetary_2M  Monetary_3M  Recency_1M  Recency_2M  Recency_3M  Revenue\n",
       "0     12346.0           -30           -30           -30        77184            0            0         -30         -60         -90    77184\n",
       "1     12347.0           -30           -30           -30          712          475            0         -30         -10         -40     1823\n",
       "2     12348.0           -30           -30           -30          893          227            0         -30         -20         -50     1487\n",
       "3     12349.0           -30           -30           -30         1758            0            0         -30         -60         -90     1758\n",
       "4     12350.0           -30           -30           -30          334            0            0         -30         -60         -90      334"
      ]
     },
     "execution_count": 12,
     "metadata": {},
     "output_type": "execute_result"
    }
   ],
   "source": [
    "# Crear la base del modelo\n",
    "rfm_model = pd.pivot_table(\n",
    "    model_invoices, index='CustomerID', values=['Recency_1M', 'Recency_2M', 'Recency_3M', 'Frequency_1M', \n",
    "                                                'Frequency_2M', 'Frequency_3M', 'Monetary_1M', 'Monetary_2M', \n",
    "                                                'Monetary_3M','Revenue']).reset_index()\n",
    "\n",
    "rfm_model.head()"
   ]
  },
  {
   "cell_type": "code",
   "execution_count": 14,
   "metadata": {},
   "outputs": [
    {
     "data": {
      "image/png": "[encoded data removed]",
      "text/plain": [
       "<Figure size 864x576 with 2 Axes>"
      ]
     },
     "metadata": {
      "needs_background": "light"
     },
     "output_type": "display_data"
    }
   ],
   "source": [
    "plt.figure(figsize=(12, 8))\n",
    "sns.heatmap(rfm_model.corr(), annot=True)\n",
    "plt.show()"
   ]
  },
  {
   "cell_type": "code",
   "execution_count": null,
   "metadata": {},
   "outputs": [],
   "source": [
    "# Agregar Revenue\n",
    "\n",
    "# customer_rev = data.groupby(['CustomerID']).TotalPrice.agg(['sum']).reset_index()\n",
    "# customer_rev.columns = ['CustomerID', 'Revenue']\n",
    "\n",
    "# customer_rev.head()"
   ]
  },
  {
   "cell_type": "markdown",
   "metadata": {},
   "source": [
    "---\n",
    "# Dummies productos"
   ]
  },
  {
   "cell_type": "code",
   "execution_count": null,
   "metadata": {
    "scrolled": false
   },
   "outputs": [],
   "source": [
    "# Dummies de productos\n",
    "dummy_product = pd.pivot_table(data, index='CustomerID', values=['Quantity'], columns='Description').reset_index()"
   ]
  },
  {
   "cell_type": "code",
   "execution_count": null,
   "metadata": {},
   "outputs": [],
   "source": [
    "products = dummy_product.Quantity\n",
    "ids = dummy_product.CustomerID\n",
    "\n",
    "dummy_product = pd.merge(ids, products, left_index=True, right_index=True)\n",
    "dummy_product = dummy_product.fillna(0)\n",
    "\n",
    "dummy_product.shape"
   ]
  },
  {
   "cell_type": "code",
   "execution_count": null,
   "metadata": {},
   "outputs": [],
   "source": [
    "total = dummy_product.isin([0]).sum().reset_index()\n",
    "total.columns = ['Products', 'Amount']\n",
    "total = total.sort_values(by='Amount')\n",
    "\n",
    "dummy_colunms = list(total.Products[:300])\n",
    "dummy_product = dummy_product[dummy_colunms]\n",
    "dummy_product.shape"
   ]
  },
  {
   "cell_type": "markdown",
   "metadata": {},
   "source": [
    "---"
   ]
  },
  {
   "cell_type": "code",
   "execution_count": null,
   "metadata": {},
   "outputs": [],
   "source": [
    "def Q_bins_less(x):\n",
    "    '''\n",
    "    Function to create bins by Quartiles\n",
    "    Function can be used, when the interval most lowest \n",
    "    correspond with the value more higher. \n",
    "    '''\n",
    "    quartile = x.quantile([0, 0.25, 0.5, 0.75, 1])\n",
    "    return pd.cut(np.array(x), quartile, labels=[4, 3, 2, 1])\n",
    "\n",
    "def Q_bins_more(x):\n",
    "    '''\n",
    "    Function to create bins by Quartiles\n",
    "    Function can be used, when the interval most higher \n",
    "    correspond with the value more higher.\n",
    "    '''\n",
    "    quartile = x.quantile([0, 0.01, 0.25, 0.5, 0.75, 0.99, 1])\n",
    "    return pd.cut(np.array(x), quartile, labels=[1, 2, 3, 4, 5, 6])"
   ]
  },
  {
   "cell_type": "code",
   "execution_count": null,
   "metadata": {},
   "outputs": [],
   "source": [
    "rfm_customers['RecencyBins'] = Q_bins_less(rfm_customers.Recency)\n",
    "rfm_customers['FrequencyBins'] = Q_bins_less(rfm_customers.Frequency)\n",
    "rfm_customers['MonetaryBins'] = Q_bins_more(rfm_customers.Monetary)\n",
    "\n",
    "\n",
    "rfm_customers['RecencyBins'] = rfm_customers['RecencyBins'].fillna(value=4)\n",
    "rfm_customers['FrequencyBins'] = rfm_customers['FrequencyBins'].fillna(value=4)\n",
    "rfm_customers['MonetaryBins'] = rfm_customers['MonetaryBins'].fillna(value=1)\n",
    "\n",
    "rfm_customers.head()"
   ]
  },
  {
   "cell_type": "code",
   "execution_count": null,
   "metadata": {},
   "outputs": [],
   "source": [
    "def statss(serie, data, title):\n",
    "    rank = list(serie.unique())\n",
    "    rank.sort()\n",
    "    print('\\n========', title,'=======\\n')\n",
    "    for e in rank:\n",
    "        print(':', e, '\\n Count:',round(data[serie == e].count()),'\\n MIN:'\n",
    "              ,round(data[serie == e].min()), '\\n MAX:',\n",
    "              round(data[serie == e].max()), '\\n')\n",
    "\n",
    "# statss(rfm_customers.RecencyBins, rfm_customers.Recency, 'Recency')\n",
    "# statss(rfm_customers.FrequencyBins, rfm_customers.Frequency, 'Frequency')\n",
    "# statss(rfm_customers.MonetaryBins, rfm_customers.Monetary, 'Monetary')\n"
   ]
  },
  {
   "cell_type": "markdown",
   "metadata": {},
   "source": [
    "# Final Dataset"
   ]
  },
  {
   "cell_type": "code",
   "execution_count": null,
   "metadata": {},
   "outputs": [],
   "source": [
    "customer_rev = rfm_model[['CustomerID','Revenue']]\n",
    "rfm_model = rfm_model.drop(columns='Revenue')\n",
    "\n",
    "rfm_model.head()"
   ]
  },
  {
   "cell_type": "code",
   "execution_count": null,
   "metadata": {},
   "outputs": [],
   "source": [
    "# WHIT DUMMIES\n",
    "df_model_f = pd.merge(rfm_model, dummy_product, on='CustomerID')\n",
    "df_model_f = pd.merge(df_model_f, customer_rev, on='CustomerID')\n",
    "\n",
    "\n",
    "# WHIT -out DUMMIES\n",
    "# df_model_f = pd.merge(rfm_model, customer_rev, on='CustomerID')\n",
    "\n",
    "# df_model_predictor\n",
    "# dummy_prod\n",
    "# customer_rev"
   ]
  },
  {
   "cell_type": "code",
   "execution_count": null,
   "metadata": {},
   "outputs": [],
   "source": [
    "df_model_f.head()"
   ]
  },
  {
   "cell_type": "code",
   "execution_count": null,
   "metadata": {},
   "outputs": [],
   "source": [
    "# Create correlation matrix\n",
    "corr_matrix = df_model_f.corr().abs()\n",
    "\n",
    "# Select upper triangle of correlation matrix\n",
    "upper = corr_matrix.where(np.triu(np.ones(corr_matrix.shape), k=1).astype(np.bool))\n",
    "\n",
    "# Find index of feature columns with correlation greater than 0.95\n",
    "to_drop = [column for column in upper.columns if any(upper[column] > 0.95)]\n",
    "\n",
    "print(len(to_drop),'\\n', to_drop)"
   ]
  },
  {
   "cell_type": "code",
   "execution_count": null,
   "metadata": {},
   "outputs": [],
   "source": [
    "# Drop features \n",
    "df_model_f = df_model_f.drop(df_model_f[to_drop], axis=1)"
   ]
  },
  {
   "cell_type": "code",
   "execution_count": null,
   "metadata": {},
   "outputs": [],
   "source": [
    "# df_model_f['MonetaryBins'] = Q_bins_more(df_model_f.Revenue)\n"
   ]
  },
  {
   "cell_type": "code",
   "execution_count": null,
   "metadata": {},
   "outputs": [],
   "source": [
    "# Define Train Test\n",
    "df_train = df_model_f[df_model_f.CustomerID.isin(train_customers)]\n",
    "df_test = df_model_f[df_model_f.CustomerID.isin(test_customers)]\n",
    "df_predict = df_model_f[df_model_f.CustomerID.isin(pred_customers)]\n",
    "\n",
    "\n",
    "# DATA\n",
    "X_train = df_train.iloc[:,:-1]\n",
    "# Target\n",
    "y_train = df_train.iloc[:,-1:]\n",
    "\n",
    "# DATA\n",
    "X_test = df_test.iloc[:,:-1]\n",
    "# Target\n",
    "y_test = df_test.iloc[:,-1:]\n",
    "\n",
    "\n",
    "\n",
    "\n",
    "# # Target\n",
    "# df_train.iloc[:,-1:]\n",
    "\n",
    "# # DATA\n",
    "# df_train.iloc[:,:-1]\n",
    "\n"
   ]
  },
  {
   "cell_type": "code",
   "execution_count": null,
   "metadata": {},
   "outputs": [],
   "source": [
    "df_model_f.head()"
   ]
  },
  {
   "cell_type": "markdown",
   "metadata": {},
   "source": [
    "# Definicion del Train Test y futuro Predict"
   ]
  },
  {
   "cell_type": "code",
   "execution_count": null,
   "metadata": {
    "scrolled": true
   },
   "outputs": [],
   "source": [
    "# Crear Dataset con Train-Test y Predicted\n",
    "\n",
    "# Convertir InvoiceDate a formato fecha\n",
    "# data[\"InvoiceDate\"] = pd.to_datetime(data[\"InvoiceDate\"])\n",
    "\n",
    "cut_pred = '2011-09-01'\n",
    "fin_pred = '2011-09-30'\n",
    "\n",
    "pred_customers = model_df.CustomerID[(model_df.FirstPurchaseDate >= pd.to_datetime(cut_pred)) & (model_df.FirstPurchaseDate <= pd.to_datetime(fin_pred))]\n",
    "\n",
    "cut_test = '2011-06-01'\n",
    "fin_test = '2011-08-31'\n",
    "\n",
    "test_customers = model_df.CustomerID[(model_df.FirstPurchaseDate >= pd.to_datetime(cut_test)) & (model_df.FirstPurchaseDate <= pd.to_datetime(fin_test))]\n",
    "\n",
    "cut_train = '2011-05-31'\n",
    "\n",
    "train_customers = model_df.CustomerID[(model_df.FirstPurchaseDate <= pd.to_datetime(cut_train))]\n",
    "\n",
    "print('Train:', len(train_customers), '\\nTest:', len(test_customers), '\\nPredict:', len(pred_customers))\n"
   ]
  },
  {
   "cell_type": "markdown",
   "metadata": {},
   "source": [
    "# Make Model by Week (LinearRegression)"
   ]
  },
  {
   "cell_type": "code",
   "execution_count": null,
   "metadata": {},
   "outputs": [],
   "source": [
    "from sklearn.metrics import accuracy_score, confusion_matrix\n",
    "from sklearn.linear_model import LinearRegression\n",
    "\n",
    "from sklearn.metrics import r2_score"
   ]
  },
  {
   "cell_type": "code",
   "execution_count": null,
   "metadata": {},
   "outputs": [],
   "source": [
    "ltv_model = LinearRegression()"
   ]
  },
  {
   "cell_type": "code",
   "execution_count": null,
   "metadata": {},
   "outputs": [],
   "source": [
    "ltv_model.fit(X_train, y_train)"
   ]
  },
  {
   "cell_type": "code",
   "execution_count": null,
   "metadata": {},
   "outputs": [],
   "source": [
    "score_training = ltv_model.score(X_train, y_train)\n",
    "print(\"Training set score: {:.5f}\".format(score_training)) \n",
    "\n",
    "score_test = ltv_model.score(X_test, y_test)\n",
    "print(\"Test set R^2: {:.5f}\".format(score_test))"
   ]
  },
  {
   "cell_type": "markdown",
   "metadata": {},
   "source": [
    "# Make Model by Week (RandomForestRegressor)"
   ]
  },
  {
   "cell_type": "code",
   "execution_count": null,
   "metadata": {},
   "outputs": [],
   "source": [
    "from sklearn.ensemble import RandomForestRegressor\n",
    "from sklearn.metrics import r2_score\n",
    "from sklearn.metrics import mean_absolute_error\n",
    "from sklearn.model_selection import train_test_split\n",
    "from sklearn.model_selection import GridSearchCV"
   ]
  },
  {
   "cell_type": "code",
   "execution_count": null,
   "metadata": {},
   "outputs": [],
   "source": [
    "#Grid search for parameter selection for a Random Forest Classifier model\n",
    "param_grid = {\n",
    "    'n_estimators': [100, 200, 300, 400 ],\n",
    "    'max_features': ['auto','sqrt','log2'],\n",
    "    'max_depth': [25, 20 ,15]\n",
    "}"
   ]
  },
  {
   "cell_type": "code",
   "execution_count": null,
   "metadata": {},
   "outputs": [],
   "source": [
    "RFR = RandomForestRegressor(n_jobs=-1)\n",
    "GS = GridSearchCV(RFR, param_grid, cv = 5, verbose = 3)"
   ]
  },
  {
   "cell_type": "code",
   "execution_count": null,
   "metadata": {
    "scrolled": true
   },
   "outputs": [],
   "source": [
    "GS.fit(X_train, y_train)"
   ]
  },
  {
   "cell_type": "code",
   "execution_count": null,
   "metadata": {},
   "outputs": [],
   "source": [
    "GS.best_params_"
   ]
  },
  {
   "cell_type": "code",
   "execution_count": null,
   "metadata": {},
   "outputs": [],
   "source": [
    "RFR = RandomForestRegressor(max_depth = 15, max_features='auto', n_estimators=200)\n",
    "RFR.fit(X_train, y_train)"
   ]
  },
  {
   "cell_type": "code",
   "execution_count": null,
   "metadata": {},
   "outputs": [],
   "source": [
    "y_train_pred = RFR.predict(X_train)\n",
    "y_pred = RFR.predict(X_test)"
   ]
  },
  {
   "cell_type": "code",
   "execution_count": null,
   "metadata": {},
   "outputs": [],
   "source": [
    "r2 = r2_score(y_train, y_train_pred)\n",
    "mae = mean_absolute_error(y_train, y_train_pred)\n",
    "print ('TRAIN MODEL METRICS:')\n",
    "print('The R2 score is: ' + str(r2))\n",
    "print('The MAE score is: ' + str(mae))"
   ]
  },
  {
   "cell_type": "code",
   "execution_count": null,
   "metadata": {},
   "outputs": [],
   "source": [
    "r2 = r2_score(y_test, y_pred)\n",
    "mae = mean_absolute_error(y_test, y_pred)\n",
    "print ('TEST MODEL METRICS:')\n",
    "print('The R2 score is: ' + str(r2))\n",
    "print('The MAE score is: ' + str(mae))"
   ]
  },
  {
   "cell_type": "code",
   "execution_count": null,
   "metadata": {},
   "outputs": [],
   "source": [
    "# ROC"
   ]
  },
  {
   "cell_type": "code",
   "execution_count": null,
   "metadata": {},
   "outputs": [],
   "source": []
  }
 ],
 "metadata": {
  "kernelspec": {
   "display_name": "Python 3",
   "language": "python",
   "name": "python3"
  },
  "language_info": {
   "codemirror_mode": {
    "name": "ipython",
    "version": 3
   },
   "file_extension": ".py",
   "mimetype": "text/x-python",
   "name": "python",
   "nbconvert_exporter": "python",
   "pygments_lexer": "ipython3",
   "version": "3.7.3"
  }
 },
 "nbformat": 4,
 "nbformat_minor": 2
}
