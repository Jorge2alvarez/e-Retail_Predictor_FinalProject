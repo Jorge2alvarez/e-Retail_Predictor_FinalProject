{
 "cells": [
  {
   "cell_type": "markdown",
   "metadata": {},
   "source": [
    "# 1- Import Libraries & Setup Kernel"
   ]
  },
  {
   "cell_type": "code",
   "execution_count": 1,
   "metadata": {},
   "outputs": [],
   "source": [
    "# Librerías de Dataset y procesamiento\n",
    "import pandas as pd\n",
    "import numpy as np\n",
    "from datetime import datetime\n",
    "\n",
    "# Librerías para plotear\n",
    "%matplotlib inline\n",
    "import matplotlib.pyplot as plt\n",
    "import seaborn as sns\n",
    "sns.set_style(\"darkgrid\")\n",
    "\n",
    "# Configuración de Pandas\n",
    "pd.set_option('display.max_rows', 500)\n",
    "pd.set_option('display.max_columns', 500)\n",
    "pd.set_option('display.width', 1000)\n",
    "\n",
    "# Importar NLP\n",
    "import nltk\n",
    "#nltk.download('stopwords')\n",
    "from nltk.tokenize import sent_tokenize, word_tokenize\n",
    "from nltk.corpus import stopwords\n",
    "\n",
    "stopWords = set(stopwords.words('english'))"
   ]
  },
  {
   "cell_type": "markdown",
   "metadata": {},
   "source": [
    "---\n",
    "# 2- Import & Explore of the Dataset"
   ]
  },
  {
   "cell_type": "code",
   "execution_count": 2,
   "metadata": {},
   "outputs": [],
   "source": [
    "# Crear un DataFrame llamado \"data\" para importar el CSV\n",
    "data = pd.read_csv('../data/OnlineRetail.csv', header=0, encoding = 'unicode_escape')"
   ]
  },
  {
   "cell_type": "markdown",
   "metadata": {},
   "source": [
    "---\n",
    "## 2.a- Descriptive Data Analysis"
   ]
  },
  {
   "cell_type": "code",
   "execution_count": 3,
   "metadata": {},
   "outputs": [
    {
     "data": {
      "text/html": [
       "<div>\n",
       "<style scoped>\n",
       "    .dataframe tbody tr th:only-of-type {\n",
       "        vertical-align: middle;\n",
       "    }\n",
       "\n",
       "    .dataframe tbody tr th {\n",
       "        vertical-align: top;\n",
       "    }\n",
       "\n",
       "    .dataframe thead th {\n",
       "        text-align: right;\n",
       "    }\n",
       "</style>\n",
       "<table border=\"1\" class=\"dataframe\">\n",
       "  <thead>\n",
       "    <tr style=\"text-align: right;\">\n",
       "      <th></th>\n",
       "      <th>InvoiceNo</th>\n",
       "      <th>StockCode</th>\n",
       "      <th>Description</th>\n",
       "      <th>Quantity</th>\n",
       "      <th>InvoiceDate</th>\n",
       "      <th>UnitPrice</th>\n",
       "      <th>CustomerID</th>\n",
       "      <th>Country</th>\n",
       "    </tr>\n",
       "  </thead>\n",
       "  <tbody>\n",
       "    <tr>\n",
       "      <th>0</th>\n",
       "      <td>536365</td>\n",
       "      <td>85123A</td>\n",
       "      <td>WHITE HANGING HEART T-LIGHT HOLDER</td>\n",
       "      <td>6</td>\n",
       "      <td>12/1/2010 8:26</td>\n",
       "      <td>2.55</td>\n",
       "      <td>17850.0</td>\n",
       "      <td>United Kingdom</td>\n",
       "    </tr>\n",
       "    <tr>\n",
       "      <th>1</th>\n",
       "      <td>536365</td>\n",
       "      <td>71053</td>\n",
       "      <td>WHITE METAL LANTERN</td>\n",
       "      <td>6</td>\n",
       "      <td>12/1/2010 8:26</td>\n",
       "      <td>3.39</td>\n",
       "      <td>17850.0</td>\n",
       "      <td>United Kingdom</td>\n",
       "    </tr>\n",
       "    <tr>\n",
       "      <th>2</th>\n",
       "      <td>536365</td>\n",
       "      <td>84406B</td>\n",
       "      <td>CREAM CUPID HEARTS COAT HANGER</td>\n",
       "      <td>8</td>\n",
       "      <td>12/1/2010 8:26</td>\n",
       "      <td>2.75</td>\n",
       "      <td>17850.0</td>\n",
       "      <td>United Kingdom</td>\n",
       "    </tr>\n",
       "    <tr>\n",
       "      <th>3</th>\n",
       "      <td>536365</td>\n",
       "      <td>84029G</td>\n",
       "      <td>KNITTED UNION FLAG HOT WATER BOTTLE</td>\n",
       "      <td>6</td>\n",
       "      <td>12/1/2010 8:26</td>\n",
       "      <td>3.39</td>\n",
       "      <td>17850.0</td>\n",
       "      <td>United Kingdom</td>\n",
       "    </tr>\n",
       "    <tr>\n",
       "      <th>4</th>\n",
       "      <td>536365</td>\n",
       "      <td>84029E</td>\n",
       "      <td>RED WOOLLY HOTTIE WHITE HEART.</td>\n",
       "      <td>6</td>\n",
       "      <td>12/1/2010 8:26</td>\n",
       "      <td>3.39</td>\n",
       "      <td>17850.0</td>\n",
       "      <td>United Kingdom</td>\n",
       "    </tr>\n",
       "  </tbody>\n",
       "</table>\n",
       "</div>"
      ],
      "text/plain": [
       "  InvoiceNo StockCode                          Description  Quantity     InvoiceDate  UnitPrice  CustomerID         Country\n",
       "0    536365    85123A   WHITE HANGING HEART T-LIGHT HOLDER         6  12/1/2010 8:26       2.55     17850.0  United Kingdom\n",
       "1    536365     71053                  WHITE METAL LANTERN         6  12/1/2010 8:26       3.39     17850.0  United Kingdom\n",
       "2    536365    84406B       CREAM CUPID HEARTS COAT HANGER         8  12/1/2010 8:26       2.75     17850.0  United Kingdom\n",
       "3    536365    84029G  KNITTED UNION FLAG HOT WATER BOTTLE         6  12/1/2010 8:26       3.39     17850.0  United Kingdom\n",
       "4    536365    84029E       RED WOOLLY HOTTIE WHITE HEART.         6  12/1/2010 8:26       3.39     17850.0  United Kingdom"
      ]
     },
     "execution_count": 3,
     "metadata": {},
     "output_type": "execute_result"
    }
   ],
   "source": [
    "# Visualizar el Dataset\n",
    "data.head()"
   ]
  },
  {
   "cell_type": "markdown",
   "metadata": {},
   "source": [
    "El Dataset contiene productos comprados, agrupados por factura y por cliente.\n",
    "<br><br>Contiene 8 variables:\n",
    "\n",
    "- **Numericas**\n",
    "    - Continuas: UnitPrice \n",
    "    - Discretas: Quantity\n",
    "\n",
    "- **Categoricas**\n",
    "    - Ordinales:\n",
    "    - Nominales: CustomerID, InvoiceNo, Description, StockCode, Country\n",
    "- **Otras**\n",
    "    - Fecha: InvoiceDate"
   ]
  },
  {
   "cell_type": "markdown",
   "metadata": {},
   "source": [
    "---\n",
    "## 2.b- Exploratory Data Analysis"
   ]
  },
  {
   "cell_type": "code",
   "execution_count": 4,
   "metadata": {},
   "outputs": [
    {
     "name": "stdout",
     "output_type": "stream",
     "text": [
      "Filas:  541909 \n",
      "Columnas:  8\n"
     ]
    }
   ],
   "source": [
    "# Visualizar cantidad de filas y columnas\n",
    "print(\"Filas: \", data.shape[0], '\\nColumnas: ', data.shape[1])"
   ]
  },
  {
   "cell_type": "code",
   "execution_count": 5,
   "metadata": {},
   "outputs": [
    {
     "name": "stdout",
     "output_type": "stream",
     "text": [
      "<class 'pandas.core.frame.DataFrame'>\n",
      "RangeIndex: 541909 entries, 0 to 541908\n",
      "Data columns (total 8 columns):\n",
      "InvoiceNo      541909 non-null object\n",
      "StockCode      541909 non-null object\n",
      "Description    540455 non-null object\n",
      "Quantity       541909 non-null int64\n",
      "InvoiceDate    541909 non-null object\n",
      "UnitPrice      541909 non-null float64\n",
      "CustomerID     406829 non-null float64\n",
      "Country        541909 non-null object\n",
      "dtypes: float64(2), int64(1), object(5)\n",
      "memory usage: 33.1+ MB\n"
     ]
    }
   ],
   "source": [
    "# Tipo de variables y valores nulos\n",
    "data.info()"
   ]
  },
  {
   "cell_type": "markdown",
   "metadata": {},
   "source": [
    "Las variables _Description_ y _CustomerID_ contienen valores nulos.\n",
    "\n",
    "- Description: 1.454 null\n",
    "- CustomerID: 135.080 null"
   ]
  },
  {
   "cell_type": "code",
   "execution_count": 6,
   "metadata": {},
   "outputs": [
    {
     "data": {
      "text/html": [
       "<div>\n",
       "<style scoped>\n",
       "    .dataframe tbody tr th:only-of-type {\n",
       "        vertical-align: middle;\n",
       "    }\n",
       "\n",
       "    .dataframe tbody tr th {\n",
       "        vertical-align: top;\n",
       "    }\n",
       "\n",
       "    .dataframe thead th {\n",
       "        text-align: right;\n",
       "    }\n",
       "</style>\n",
       "<table border=\"1\" class=\"dataframe\">\n",
       "  <thead>\n",
       "    <tr style=\"text-align: right;\">\n",
       "      <th></th>\n",
       "      <th>count</th>\n",
       "      <th>mean</th>\n",
       "      <th>std</th>\n",
       "      <th>min</th>\n",
       "      <th>25%</th>\n",
       "      <th>50%</th>\n",
       "      <th>75%</th>\n",
       "      <th>max</th>\n",
       "    </tr>\n",
       "  </thead>\n",
       "  <tbody>\n",
       "    <tr>\n",
       "      <th>Quantity</th>\n",
       "      <td>541909.0</td>\n",
       "      <td>9.552250</td>\n",
       "      <td>218.081158</td>\n",
       "      <td>-80995.00</td>\n",
       "      <td>1.00</td>\n",
       "      <td>3.00</td>\n",
       "      <td>10.00</td>\n",
       "      <td>80995.0</td>\n",
       "    </tr>\n",
       "    <tr>\n",
       "      <th>UnitPrice</th>\n",
       "      <td>541909.0</td>\n",
       "      <td>4.611114</td>\n",
       "      <td>96.759853</td>\n",
       "      <td>-11062.06</td>\n",
       "      <td>1.25</td>\n",
       "      <td>2.08</td>\n",
       "      <td>4.13</td>\n",
       "      <td>38970.0</td>\n",
       "    </tr>\n",
       "    <tr>\n",
       "      <th>CustomerID</th>\n",
       "      <td>406829.0</td>\n",
       "      <td>15287.690570</td>\n",
       "      <td>1713.600303</td>\n",
       "      <td>12346.00</td>\n",
       "      <td>13953.00</td>\n",
       "      <td>15152.00</td>\n",
       "      <td>16791.00</td>\n",
       "      <td>18287.0</td>\n",
       "    </tr>\n",
       "  </tbody>\n",
       "</table>\n",
       "</div>"
      ],
      "text/plain": [
       "               count          mean          std       min       25%       50%       75%      max\n",
       "Quantity    541909.0      9.552250   218.081158 -80995.00      1.00      3.00     10.00  80995.0\n",
       "UnitPrice   541909.0      4.611114    96.759853 -11062.06      1.25      2.08      4.13  38970.0\n",
       "CustomerID  406829.0  15287.690570  1713.600303  12346.00  13953.00  15152.00  16791.00  18287.0"
      ]
     },
     "execution_count": 6,
     "metadata": {},
     "output_type": "execute_result"
    }
   ],
   "source": [
    "# Detalles estadísticos básicos\n",
    "data.describe().T"
   ]
  },
  {
   "cell_type": "markdown",
   "metadata": {},
   "source": [
    "Las variables Numéricas _Quantity_ y _UnitPrice_ contienen valores negativos. (Evaluar que hacer con estos datos)"
   ]
  },
  {
   "cell_type": "code",
   "execution_count": 7,
   "metadata": {},
   "outputs": [
    {
     "data": {
      "text/html": [
       "<div>\n",
       "<style scoped>\n",
       "    .dataframe tbody tr th:only-of-type {\n",
       "        vertical-align: middle;\n",
       "    }\n",
       "\n",
       "    .dataframe tbody tr th {\n",
       "        vertical-align: top;\n",
       "    }\n",
       "\n",
       "    .dataframe thead th {\n",
       "        text-align: right;\n",
       "    }\n",
       "</style>\n",
       "<table border=\"1\" class=\"dataframe\">\n",
       "  <thead>\n",
       "    <tr style=\"text-align: right;\">\n",
       "      <th></th>\n",
       "      <th>count</th>\n",
       "      <th>unique</th>\n",
       "      <th>top</th>\n",
       "      <th>freq</th>\n",
       "    </tr>\n",
       "  </thead>\n",
       "  <tbody>\n",
       "    <tr>\n",
       "      <th>InvoiceNo</th>\n",
       "      <td>541909</td>\n",
       "      <td>25900</td>\n",
       "      <td>573585</td>\n",
       "      <td>1114</td>\n",
       "    </tr>\n",
       "    <tr>\n",
       "      <th>StockCode</th>\n",
       "      <td>541909</td>\n",
       "      <td>4070</td>\n",
       "      <td>85123A</td>\n",
       "      <td>2313</td>\n",
       "    </tr>\n",
       "    <tr>\n",
       "      <th>Description</th>\n",
       "      <td>540455</td>\n",
       "      <td>4223</td>\n",
       "      <td>WHITE HANGING HEART T-LIGHT HOLDER</td>\n",
       "      <td>2369</td>\n",
       "    </tr>\n",
       "    <tr>\n",
       "      <th>InvoiceDate</th>\n",
       "      <td>541909</td>\n",
       "      <td>23260</td>\n",
       "      <td>10/31/2011 14:41</td>\n",
       "      <td>1114</td>\n",
       "    </tr>\n",
       "    <tr>\n",
       "      <th>Country</th>\n",
       "      <td>541909</td>\n",
       "      <td>38</td>\n",
       "      <td>United Kingdom</td>\n",
       "      <td>495478</td>\n",
       "    </tr>\n",
       "  </tbody>\n",
       "</table>\n",
       "</div>"
      ],
      "text/plain": [
       "              count unique                                 top    freq\n",
       "InvoiceNo    541909  25900                              573585    1114\n",
       "StockCode    541909   4070                              85123A    2313\n",
       "Description  540455   4223  WHITE HANGING HEART T-LIGHT HOLDER    2369\n",
       "InvoiceDate  541909  23260                    10/31/2011 14:41    1114\n",
       "Country      541909     38                      United Kingdom  495478"
      ]
     },
     "execution_count": 7,
     "metadata": {},
     "output_type": "execute_result"
    }
   ],
   "source": [
    "# Detalles de las variables no numericas\n",
    "data.describe(include=['O']).T"
   ]
  },
  {
   "cell_type": "code",
   "execution_count": 8,
   "metadata": {},
   "outputs": [
    {
     "name": "stdout",
     "output_type": "stream",
     "text": [
      "Unique Customers: 4373\n",
      "Unique Invoices: 25900\n",
      "== == == == == == == ==\n",
      "Avg. Invoices per Customer: 6\n",
      "Avg. Products per Invoice: 21\n",
      "Avg. Total Products per InvoiceNo: 200\n"
     ]
    }
   ],
   "source": [
    "# Unic CustomerID\n",
    "UnicCustomerID = len(data.CustomerID.unique())\n",
    "\n",
    "# Unic InvoiceNo\n",
    "UnicInvoiceNo =  len(data.InvoiceNo.unique())\n",
    "\n",
    "print('''Unique Customers:''', UnicCustomerID)\n",
    "print('''Unique Invoices:''', UnicInvoiceNo)\n",
    "print('== == == == == == == ==')\n",
    "print('Avg. Invoices per Customer:', round(UnicInvoiceNo/UnicCustomerID))\n",
    "print('Avg. Products per Invoice:', round(len(data.Description)/UnicInvoiceNo))\n",
    "print('Avg. Total Products per InvoiceNo:', round(sum(data.Quantity)/UnicInvoiceNo))"
   ]
  },
  {
   "cell_type": "markdown",
   "metadata": {},
   "source": [
    "---\n",
    "### 2.b.a- Explore InvoiceNo field"
   ]
  },
  {
   "cell_type": "code",
   "execution_count": 9,
   "metadata": {},
   "outputs": [
    {
     "data": {
      "text/html": [
       "<div>\n",
       "<style scoped>\n",
       "    .dataframe tbody tr th:only-of-type {\n",
       "        vertical-align: middle;\n",
       "    }\n",
       "\n",
       "    .dataframe tbody tr th {\n",
       "        vertical-align: top;\n",
       "    }\n",
       "\n",
       "    .dataframe thead th {\n",
       "        text-align: right;\n",
       "    }\n",
       "</style>\n",
       "<table border=\"1\" class=\"dataframe\">\n",
       "  <thead>\n",
       "    <tr style=\"text-align: right;\">\n",
       "      <th></th>\n",
       "      <th>InvoiceNo</th>\n",
       "      <th>CustomerID</th>\n",
       "      <th>count</th>\n",
       "      <th>FisrtDigit</th>\n",
       "      <th>LastDigit</th>\n",
       "      <th>NumDigits</th>\n",
       "    </tr>\n",
       "  </thead>\n",
       "  <tbody>\n",
       "    <tr>\n",
       "      <th>0</th>\n",
       "      <td>536365</td>\n",
       "      <td>17850.0</td>\n",
       "      <td>7</td>\n",
       "      <td>5</td>\n",
       "      <td>5</td>\n",
       "      <td>6</td>\n",
       "    </tr>\n",
       "    <tr>\n",
       "      <th>1</th>\n",
       "      <td>536366</td>\n",
       "      <td>17850.0</td>\n",
       "      <td>2</td>\n",
       "      <td>5</td>\n",
       "      <td>6</td>\n",
       "      <td>6</td>\n",
       "    </tr>\n",
       "    <tr>\n",
       "      <th>2</th>\n",
       "      <td>536367</td>\n",
       "      <td>13047.0</td>\n",
       "      <td>12</td>\n",
       "      <td>5</td>\n",
       "      <td>7</td>\n",
       "      <td>6</td>\n",
       "    </tr>\n",
       "    <tr>\n",
       "      <th>3</th>\n",
       "      <td>536368</td>\n",
       "      <td>13047.0</td>\n",
       "      <td>4</td>\n",
       "      <td>5</td>\n",
       "      <td>8</td>\n",
       "      <td>6</td>\n",
       "    </tr>\n",
       "    <tr>\n",
       "      <th>4</th>\n",
       "      <td>536369</td>\n",
       "      <td>13047.0</td>\n",
       "      <td>1</td>\n",
       "      <td>5</td>\n",
       "      <td>9</td>\n",
       "      <td>6</td>\n",
       "    </tr>\n",
       "  </tbody>\n",
       "</table>\n",
       "</div>"
      ],
      "text/plain": [
       "  InvoiceNo  CustomerID  count FisrtDigit LastDigit  NumDigits\n",
       "0    536365     17850.0      7          5         5          6\n",
       "1    536366     17850.0      2          5         6          6\n",
       "2    536367     13047.0     12          5         7          6\n",
       "3    536368     13047.0      4          5         8          6\n",
       "4    536369     13047.0      1          5         9          6"
      ]
     },
     "execution_count": 9,
     "metadata": {},
     "output_type": "execute_result"
    }
   ],
   "source": [
    "# Make DataFrame with uniques InvoicesNo\n",
    "list_invoices = data.groupby(['InvoiceNo', 'CustomerID']).InvoiceNo.agg(['count']).reset_index()\n",
    "\n",
    "# Create column with the first digit of invoices\n",
    "list_invoices['FisrtDigit'] = list_invoices['InvoiceNo'].apply(lambda x: x[:1])\n",
    "\n",
    "# Create column with the last digit of invoices\n",
    "list_invoices['LastDigit'] = list_invoices['InvoiceNo'].apply(lambda x: x[-1:])\n",
    "\n",
    "# Create column with the first digit of invoices\n",
    "list_invoices['NumDigits'] = list_invoices['InvoiceNo'].apply(lambda x: len(x))\n",
    "\n",
    "list_invoices.head()"
   ]
  },
  {
   "cell_type": "code",
   "execution_count": 10,
   "metadata": {},
   "outputs": [
    {
     "data": {
      "image/png": "[encoded data removed]",
      "text/plain": [
       "<Figure size 1152x288 with 3 Axes>"
      ]
     },
     "metadata": {
      "needs_background": "light"
     },
     "output_type": "display_data"
    }
   ],
   "source": [
    "# DF with last digit count\n",
    "last_digit = list_invoices.groupby(['LastDigit']).LastDigit.agg(['count']).reset_index()\n",
    "\n",
    "# DF with fisrt digit count\n",
    "first_digit = list_invoices.groupby(['FisrtDigit']).LastDigit.agg(['count']).reset_index()\n",
    "\n",
    "# DF with number of digits count\n",
    "num_digit = list_invoices.groupby(['NumDigits']).LastDigit.agg(['count']).reset_index()\n",
    "\n",
    "# Make subplots\n",
    "fig, (ax1, ax2, ax3) = plt.subplots(1, 3, figsize=(16, 4))\n",
    "\n",
    "# Make plots per first digit\n",
    "ax1.set_title('Invoices amount per first digit', fontsize='14')\n",
    "ax1 = sns.barplot(x=\"FisrtDigit\", y=\"count\", data=first_digit, color='steelblue', linewidth=0, ax=ax1)\n",
    "\n",
    "# Make plots per Number of characters\n",
    "ax2.set_title('Characters per invoice', fontsize='14')\n",
    "ax2 = sns.barplot(x=\"NumDigits\", y=\"count\", data=num_digit, color='steelblue', linewidth=0, ax=ax2)\n",
    "\n",
    "# Make plots per last digit\n",
    "ax3.set_title('Invoices amount per last digit', fontsize='14')\n",
    "ax3 = sns.barplot(x=\"LastDigit\", y=\"count\", data=last_digit, color='steelblue', linewidth=0, ax=ax3)\n",
    "\n",
    "plt.show()\n"
   ]
  },
  {
   "cell_type": "code",
   "execution_count": 11,
   "metadata": {},
   "outputs": [
    {
     "name": "stdout",
     "output_type": "stream",
     "text": [
      "Unique Invoices: 25900\n",
      "Invoices starts with \"C\": 3836\n",
      "Invoices starts with \"C\" and also negative: 3836\n"
     ]
    }
   ],
   "source": [
    "print('''Unique Invoices:''', UnicInvoiceNo)\n",
    "print('''Invoices starts with \"C\":''', len(data.InvoiceNo[data.InvoiceNo.str.startswith('C')].unique()))\n",
    "print('''Invoices starts with \"C\" and also negative:''', len(data.InvoiceNo[(data.InvoiceNo.str.startswith('C')) & (data.Quantity < 0)].unique()))"
   ]
  },
  {
   "cell_type": "markdown",
   "metadata": {},
   "source": [
    "**Conclusion**: All invoices that starts with \"C\" are invoices negatives, and the invoices that have 7 characters starts with \"C\" "
   ]
  },
  {
   "cell_type": "markdown",
   "metadata": {},
   "source": [
    "---\n",
    "### 2.b.b- Explore \"Description\"  field"
   ]
  },
  {
   "cell_type": "code",
   "execution_count": 12,
   "metadata": {},
   "outputs": [],
   "source": [
    "# Set on Lowercase the name of Products\n",
    "data['Description'] = data['Description'].str.lower()\n"
   ]
  },
  {
   "cell_type": "code",
   "execution_count": 13,
   "metadata": {},
   "outputs": [
    {
     "data": {
      "text/html": [
       "<div>\n",
       "<style scoped>\n",
       "    .dataframe tbody tr th:only-of-type {\n",
       "        vertical-align: middle;\n",
       "    }\n",
       "\n",
       "    .dataframe tbody tr th {\n",
       "        vertical-align: top;\n",
       "    }\n",
       "\n",
       "    .dataframe thead th {\n",
       "        text-align: right;\n",
       "    }\n",
       "</style>\n",
       "<table border=\"1\" class=\"dataframe\">\n",
       "  <thead>\n",
       "    <tr style=\"text-align: right;\">\n",
       "      <th></th>\n",
       "      <th>0</th>\n",
       "    </tr>\n",
       "  </thead>\n",
       "  <tbody>\n",
       "    <tr>\n",
       "      <th>0</th>\n",
       "      <td>white</td>\n",
       "    </tr>\n",
       "    <tr>\n",
       "      <th>1</th>\n",
       "      <td>hanging</td>\n",
       "    </tr>\n",
       "    <tr>\n",
       "      <th>2</th>\n",
       "      <td>heart</td>\n",
       "    </tr>\n",
       "    <tr>\n",
       "      <th>3</th>\n",
       "      <td>t-light</td>\n",
       "    </tr>\n",
       "    <tr>\n",
       "      <th>4</th>\n",
       "      <td>holder</td>\n",
       "    </tr>\n",
       "  </tbody>\n",
       "</table>\n",
       "</div>"
      ],
      "text/plain": [
       "         0\n",
       "0    white\n",
       "1  hanging\n",
       "2    heart\n",
       "3  t-light\n",
       "4   holder"
      ]
     },
     "execution_count": 13,
     "metadata": {},
     "output_type": "execute_result"
    }
   ],
   "source": [
    "unique_products = list(data.Description[data.Description.notnull()].unique())\n",
    "\n",
    "bag_of_words = []\n",
    "for x in unique_products:\n",
    "    bag_of_words = bag_of_words + x.split()\n",
    "\n",
    "wordsFiltered = []\n",
    "for w in bag_of_words:\n",
    "    if w.lower() not in stopWords:\n",
    "        wordsFiltered.append(w)\n",
    "\n",
    "df_words = pd.DataFrame(wordsFiltered)\n",
    "df_words.head()"
   ]
  },
  {
   "cell_type": "code",
   "execution_count": 14,
   "metadata": {},
   "outputs": [
    {
     "data": {
      "text/plain": [
       "<matplotlib.axes._subplots.AxesSubplot at 0x11380754518>"
      ]
     },
     "execution_count": 14,
     "metadata": {},
     "output_type": "execute_result"
    },
    {
     "data": {
      "image/png": "[encoded data removed]",
      "text/plain": [
       "<Figure size 1080x432 with 1 Axes>"
      ]
     },
     "metadata": {
      "needs_background": "light"
     },
     "output_type": "display_data"
    }
   ],
   "source": [
    "words_count = df_words[0].value_counts().reset_index()\n",
    "words_count.columns = ['Word', 'count']\n",
    "\n",
    "plt.figure(figsize=(15, 6))\n",
    "sns.barplot(x=\"Word\", y=\"count\", data=words_count[words_count['count'] > 100], color='steelblue', linewidth=0)"
   ]
  },
  {
   "cell_type": "markdown",
   "metadata": {},
   "source": [
    "---\n",
    "### 2.b.c- Explore \"Quantity\"  field"
   ]
  },
  {
   "cell_type": "code",
   "execution_count": 15,
   "metadata": {},
   "outputs": [
    {
     "data": {
      "text/plain": [
       "count    541909.000000\n",
       "mean          9.552250\n",
       "std         218.081158\n",
       "min      -80995.000000\n",
       "25%           1.000000\n",
       "50%           3.000000\n",
       "75%          10.000000\n",
       "max       80995.000000\n",
       "Name: Quantity, dtype: float64"
      ]
     },
     "execution_count": 15,
     "metadata": {},
     "output_type": "execute_result"
    }
   ],
   "source": [
    "data.Quantity.describe()"
   ]
  },
  {
   "cell_type": "code",
   "execution_count": 16,
   "metadata": {},
   "outputs": [
    {
     "data": {
      "text/html": [
       "<div>\n",
       "<style scoped>\n",
       "    .dataframe tbody tr th:only-of-type {\n",
       "        vertical-align: middle;\n",
       "    }\n",
       "\n",
       "    .dataframe tbody tr th {\n",
       "        vertical-align: top;\n",
       "    }\n",
       "\n",
       "    .dataframe thead th {\n",
       "        text-align: right;\n",
       "    }\n",
       "</style>\n",
       "<table border=\"1\" class=\"dataframe\">\n",
       "  <thead>\n",
       "    <tr style=\"text-align: right;\">\n",
       "      <th></th>\n",
       "      <th>Quantity</th>\n",
       "      <th>count</th>\n",
       "    </tr>\n",
       "  </thead>\n",
       "  <tbody>\n",
       "    <tr>\n",
       "      <th>0</th>\n",
       "      <td>1</td>\n",
       "      <td>148227</td>\n",
       "    </tr>\n",
       "    <tr>\n",
       "      <th>1</th>\n",
       "      <td>2</td>\n",
       "      <td>81829</td>\n",
       "    </tr>\n",
       "    <tr>\n",
       "      <th>2</th>\n",
       "      <td>12</td>\n",
       "      <td>61063</td>\n",
       "    </tr>\n",
       "    <tr>\n",
       "      <th>3</th>\n",
       "      <td>6</td>\n",
       "      <td>40868</td>\n",
       "    </tr>\n",
       "    <tr>\n",
       "      <th>4</th>\n",
       "      <td>4</td>\n",
       "      <td>38484</td>\n",
       "    </tr>\n",
       "  </tbody>\n",
       "</table>\n",
       "</div>"
      ],
      "text/plain": [
       "   Quantity   count\n",
       "0         1  148227\n",
       "1         2   81829\n",
       "2        12   61063\n",
       "3         6   40868\n",
       "4         4   38484"
      ]
     },
     "execution_count": 16,
     "metadata": {},
     "output_type": "execute_result"
    }
   ],
   "source": [
    "# Make a DF with Quantity and frequency\n",
    "quantitiy = data.Quantity.value_counts().reset_index()\n",
    "quantitiy.columns = ['Quantity', 'count']\n",
    "\n",
    "quantitiy.head()"
   ]
  },
  {
   "cell_type": "code",
   "execution_count": 17,
   "metadata": {},
   "outputs": [
    {
     "data": {
      "image/png": "[encoded data removed]",
      "text/plain": [
       "<Figure size 1080x216 with 1 Axes>"
      ]
     },
     "metadata": {
      "needs_background": "light"
     },
     "output_type": "display_data"
    },
    {
     "data": {
      "image/png": "[encoded data removed]",
      "text/plain": [
       "<Figure size 1008x216 with 1 Axes>"
      ]
     },
     "metadata": {
      "needs_background": "light"
     },
     "output_type": "display_data"
    }
   ],
   "source": [
    "plt.figure(figsize=(15, 3))\n",
    "sns.boxplot( x=quantitiy.Quantity)\n",
    "plt.title(\"Quantity\", loc=\"left\", fontsize='19')\n",
    "plt.xlabel(\"Quantities\", fontsize='14')\n",
    "plt.show()\n",
    "\n",
    "plt.figure(figsize=(14, 3))\n",
    "ax1 = sns.barplot(x=\"Quantity\", y=\"count\", data=quantitiy[(quantitiy['count'] > 0)], color='steelblue', linewidth=0)\n",
    "ax1.set_xticklabels(ax1.get_xticklabels(), rotation=45)\n",
    "\n",
    "plt.title(\"Frequency of Quantity\", loc=\"left\", fontsize='19')\n",
    "plt.xlabel(\"Quantities\", fontsize='14')\n",
    "plt.ylabel(\"Frequencies\", fontsize='14')\n",
    "plt.show()"
   ]
  },
  {
   "cell_type": "code",
   "execution_count": 18,
   "metadata": {},
   "outputs": [
    {
     "data": {
      "image/png": "[encoded data removed]",
      "text/plain": [
       "<Figure size 1080x216 with 1 Axes>"
      ]
     },
     "metadata": {
      "needs_background": "light"
     },
     "output_type": "display_data"
    },
    {
     "data": {
      "image/png": "[encoded data removed]",
      "text/plain": [
       "<Figure size 1080x216 with 1 Axes>"
      ]
     },
     "metadata": {
      "needs_background": "light"
     },
     "output_type": "display_data"
    }
   ],
   "source": [
    "# Make DF where the amunt of 'Quantity' is greater than 0\n",
    "quantity_Q = quantitiy[quantitiy.Quantity > 0].sort_values(by='Quantity')\n",
    "\n",
    "# Q1 = quantity_Q['Quantity'].quantile(0.25)\n",
    "# Q3 = quantity_Q['Quantity'].quantile(0.75)\n",
    "# IQR = Q3 - Q1\n",
    "\n",
    "# lower = Q1 - 1.5* IQR\n",
    "# upper = Q3 + 1.5* IQR\n",
    "\n",
    "# quantity_Q = quantity_Q.loc[(quantity_Q['Quantity'] > lower) & (quantity_Q['Quantity'] < upper)]\n",
    "\n",
    "plt.figure(figsize=(15, 3))\n",
    "sns.boxplot( x=quantity_Q.Quantity[(quantity_Q['count'] > 10)])\n",
    "\n",
    "plt.title(\"\", loc=\"left\", fontsize='19')\n",
    "plt.xlabel(\"Number of Weeks\", fontsize='14')\n",
    "plt.ylabel(\"Customer\", fontsize='14')\n",
    "plt.show()\n",
    "\n",
    "\n",
    "\n",
    "plt.figure(figsize=(15, 3))\n",
    "ax1 = sns.barplot(x=\"Quantity\", y=\"count\", data=quantity_Q[(quantity_Q['count'] > 10)], color='steelblue', linewidth=0)\n",
    "\n",
    "ax1.set_xticklabels(ax1.get_xticklabels(), rotation=45)\n",
    "plt.title(\"Quantity with frequencies >10\", loc=\"left\", fontsize='19')\n",
    "plt.xlabel(\"Quantity\", fontsize='14')\n",
    "plt.ylabel(\"Frequency\", fontsize='14')\n",
    "\n",
    "plt.show()\n",
    "\n",
    "\n"
   ]
  },
  {
   "cell_type": "code",
   "execution_count": 19,
   "metadata": {},
   "outputs": [
    {
     "data": {
      "image/png": "[encoded data removed]",
      "text/plain": [
       "<Figure size 1080x216 with 1 Axes>"
      ]
     },
     "metadata": {
      "needs_background": "light"
     },
     "output_type": "display_data"
    },
    {
     "data": {
      "image/png": "[encoded data removed]",
      "text/plain": [
       "<Figure size 1080x216 with 1 Axes>"
      ]
     },
     "metadata": {
      "needs_background": "light"
     },
     "output_type": "display_data"
    }
   ],
   "source": [
    "plt.figure(figsize=(15, 3))\n",
    "sns.distplot(data.Quantity[(data.Quantity >0)&(data.Quantity <=100)], hist=True, kde=False, rug=False, bins=10, color='steelblue')\n",
    "\n",
    "plt.title(\"Quantity between 1 to 100\", loc=\"left\", fontsize='19')\n",
    "plt.xlabel(\"Quantity\", fontsize='14')\n",
    "plt.ylabel(\"Frequency\", fontsize='14')\n",
    "plt.xlim(0,100)\n",
    "\n",
    "plt.show()\n",
    "\n",
    "plt.figure(figsize=(15, 3))\n",
    "sns.distplot(data.Quantity[(data.Quantity >100)], hist=True, kde=False, rug=False, bins=20, color='steelblue')\n",
    "plt.ylim(0,5)\n",
    "\n",
    "plt.title(\"Quantity greater than 100\", loc=\"left\", fontsize='19')\n",
    "plt.xlabel(\"Quantity\", fontsize='14')\n",
    "plt.ylabel(\"Frequency\", fontsize='14')\n",
    "\n",
    "plt.show()"
   ]
  },
  {
   "cell_type": "markdown",
   "metadata": {},
   "source": [
    "---\n",
    "### 2.b.c- Explore \"CustomerID\"  field"
   ]
  },
  {
   "cell_type": "code",
   "execution_count": 20,
   "metadata": {},
   "outputs": [
    {
     "name": "stdout",
     "output_type": "stream",
     "text": [
      "Logs where CustomerID is Nan: 135080\n",
      "Logs where CustomerID is Nan, with negative Quantity: 1719\n",
      "Logs where CustomerID is Nan, with positive Quantity 133361\n"
     ]
    }
   ],
   "source": [
    "# Visualizar registros con CustomerID nulos\n",
    "nan_customers = data[(data.CustomerID.isnull())]\n",
    "print('Logs where CustomerID is Nan:', len(nan_customers))\n",
    "print('Logs where CustomerID is Nan, with negative Quantity:',len(nan_customers[nan_customers.Quantity <0]))\n",
    "print('Logs where CustomerID is Nan, with positive Quantity',len(nan_customers[nan_customers.Quantity >0]))"
   ]
  },
  {
   "cell_type": "markdown",
   "metadata": {},
   "source": [
    "No hay una razon aparente del faltante de CustomerID's"
   ]
  },
  {
   "cell_type": "code",
   "execution_count": 21,
   "metadata": {},
   "outputs": [
    {
     "data": {
      "text/html": [
       "<div>\n",
       "<style scoped>\n",
       "    .dataframe tbody tr th:only-of-type {\n",
       "        vertical-align: middle;\n",
       "    }\n",
       "\n",
       "    .dataframe tbody tr th {\n",
       "        vertical-align: top;\n",
       "    }\n",
       "\n",
       "    .dataframe thead th {\n",
       "        text-align: right;\n",
       "    }\n",
       "</style>\n",
       "<table border=\"1\" class=\"dataframe\">\n",
       "  <thead>\n",
       "    <tr style=\"text-align: right;\">\n",
       "      <th></th>\n",
       "      <th>CustomerID</th>\n",
       "      <th>count</th>\n",
       "      <th>FisrtDigit</th>\n",
       "      <th>LastDigit</th>\n",
       "      <th>NumDigits</th>\n",
       "    </tr>\n",
       "  </thead>\n",
       "  <tbody>\n",
       "    <tr>\n",
       "      <th>0</th>\n",
       "      <td>12346</td>\n",
       "      <td>2</td>\n",
       "      <td>1</td>\n",
       "      <td>6</td>\n",
       "      <td>5</td>\n",
       "    </tr>\n",
       "    <tr>\n",
       "      <th>1</th>\n",
       "      <td>12347</td>\n",
       "      <td>182</td>\n",
       "      <td>1</td>\n",
       "      <td>7</td>\n",
       "      <td>5</td>\n",
       "    </tr>\n",
       "    <tr>\n",
       "      <th>2</th>\n",
       "      <td>12348</td>\n",
       "      <td>31</td>\n",
       "      <td>1</td>\n",
       "      <td>8</td>\n",
       "      <td>5</td>\n",
       "    </tr>\n",
       "    <tr>\n",
       "      <th>3</th>\n",
       "      <td>12349</td>\n",
       "      <td>73</td>\n",
       "      <td>1</td>\n",
       "      <td>9</td>\n",
       "      <td>5</td>\n",
       "    </tr>\n",
       "    <tr>\n",
       "      <th>4</th>\n",
       "      <td>12350</td>\n",
       "      <td>17</td>\n",
       "      <td>1</td>\n",
       "      <td>0</td>\n",
       "      <td>5</td>\n",
       "    </tr>\n",
       "  </tbody>\n",
       "</table>\n",
       "</div>"
      ],
      "text/plain": [
       "   CustomerID  count FisrtDigit LastDigit  NumDigits\n",
       "0       12346      2          1         6          5\n",
       "1       12347    182          1         7          5\n",
       "2       12348     31          1         8          5\n",
       "3       12349     73          1         9          5\n",
       "4       12350     17          1         0          5"
      ]
     },
     "execution_count": 21,
     "metadata": {},
     "output_type": "execute_result"
    }
   ],
   "source": [
    "# Make DataFrame with uniques CustomerID\n",
    "list_CustomerID = data.groupby(['CustomerID']).CustomerID.agg(['count']).reset_index()\n",
    "list_CustomerID['CustomerID'] = list_CustomerID.CustomerID.astype('int64')\n",
    "\n",
    "# Create column with the first digit of invoices\n",
    "list_CustomerID['FisrtDigit'] = list_CustomerID['CustomerID'].apply(lambda x: str(x)[:1])\n",
    "\n",
    "# Create column with the last digit of invoices\n",
    "list_CustomerID['LastDigit'] = list_CustomerID['CustomerID'].apply(lambda x: str(x)[-1:])\n",
    "\n",
    "# Create column with the first digit of invoices\n",
    "list_CustomerID['NumDigits'] = list_CustomerID['CustomerID'].apply(lambda x: len(str(x)))\n",
    "\n",
    "list_CustomerID.head()"
   ]
  },
  {
   "cell_type": "code",
   "execution_count": 22,
   "metadata": {},
   "outputs": [
    {
     "data": {
      "image/png": "[encoded data removed]",
      "text/plain": [
       "<Figure size 1152x288 with 3 Axes>"
      ]
     },
     "metadata": {
      "needs_background": "light"
     },
     "output_type": "display_data"
    }
   ],
   "source": [
    "# DF with last digit count\n",
    "last_digit = list_CustomerID.groupby(['LastDigit']).LastDigit.agg(['count']).reset_index()\n",
    "\n",
    "# DF with fisrt digit count\n",
    "first_digit = list_CustomerID.groupby(['FisrtDigit']).LastDigit.agg(['count']).reset_index()\n",
    "\n",
    "# DF with number of digits count\n",
    "num_digit = list_CustomerID.groupby(['NumDigits']).LastDigit.agg(['count']).reset_index()\n",
    "\n",
    "# Make subplots\n",
    "fig, (ax1, ax2, ax3) = plt.subplots(1, 3, figsize=(16, 4))\n",
    "\n",
    "# Make plots per first digit\n",
    "ax1.set_title('CustomerID amount per First Digit', fontsize='14')\n",
    "ax1 = sns.barplot(x=\"FisrtDigit\", y=\"count\", data=first_digit, color='steelblue', linewidth=0, ax=ax1)\n",
    "\n",
    "# Make plots per Number of characters\n",
    "ax2.set_title('Amount of characters per CustomerID', fontsize='14')\n",
    "ax2 = sns.barplot(x=\"NumDigits\", y=\"count\", data=num_digit, color='steelblue', linewidth=0, ax=ax2)\n",
    "\n",
    "# Make plots per last digit\n",
    "ax3.set_title('CustomerID amount per Last Digit', fontsize='14')\n",
    "ax3 = sns.barplot(x=\"LastDigit\", y=\"count\", data=last_digit, color='steelblue', linewidth=0, ax=ax3)\n",
    "\n",
    "plt.show()\n"
   ]
  },
  {
   "cell_type": "code",
   "execution_count": 23,
   "metadata": {},
   "outputs": [
    {
     "data": {
      "text/plain": [
       "InvoiceNo               536589\n",
       "StockCode                10002\n",
       "Quantity                -80995\n",
       "InvoiceDate    1/10/2011 10:04\n",
       "UnitPrice                    0\n",
       "CustomerID               12346\n",
       "Country              Australia\n",
       "dtype: object"
      ]
     },
     "execution_count": 23,
     "metadata": {},
     "output_type": "execute_result"
    }
   ],
   "source": [
    "data[(data.Quantity < 0)].min()"
   ]
  },
  {
   "cell_type": "code",
   "execution_count": 24,
   "metadata": {},
   "outputs": [
    {
     "data": {
      "text/html": [
       "<div>\n",
       "<style scoped>\n",
       "    .dataframe tbody tr th:only-of-type {\n",
       "        vertical-align: middle;\n",
       "    }\n",
       "\n",
       "    .dataframe tbody tr th {\n",
       "        vertical-align: top;\n",
       "    }\n",
       "\n",
       "    .dataframe thead th {\n",
       "        text-align: right;\n",
       "    }\n",
       "</style>\n",
       "<table border=\"1\" class=\"dataframe\">\n",
       "  <thead>\n",
       "    <tr style=\"text-align: right;\">\n",
       "      <th></th>\n",
       "      <th>InvoiceNo</th>\n",
       "      <th>StockCode</th>\n",
       "      <th>Description</th>\n",
       "      <th>Quantity</th>\n",
       "      <th>InvoiceDate</th>\n",
       "      <th>UnitPrice</th>\n",
       "      <th>CustomerID</th>\n",
       "      <th>Country</th>\n",
       "    </tr>\n",
       "  </thead>\n",
       "  <tbody>\n",
       "    <tr>\n",
       "      <th>61619</th>\n",
       "      <td>541431</td>\n",
       "      <td>23166</td>\n",
       "      <td>medium ceramic top storage jar</td>\n",
       "      <td>74215</td>\n",
       "      <td>1/18/2011 10:01</td>\n",
       "      <td>1.04</td>\n",
       "      <td>12346.0</td>\n",
       "      <td>United Kingdom</td>\n",
       "    </tr>\n",
       "    <tr>\n",
       "      <th>61624</th>\n",
       "      <td>C541433</td>\n",
       "      <td>23166</td>\n",
       "      <td>medium ceramic top storage jar</td>\n",
       "      <td>-74215</td>\n",
       "      <td>1/18/2011 10:17</td>\n",
       "      <td>1.04</td>\n",
       "      <td>12346.0</td>\n",
       "      <td>United Kingdom</td>\n",
       "    </tr>\n",
       "  </tbody>\n",
       "</table>\n",
       "</div>"
      ],
      "text/plain": [
       "      InvoiceNo StockCode                     Description  Quantity      InvoiceDate  UnitPrice  CustomerID         Country\n",
       "61619    541431     23166  medium ceramic top storage jar     74215  1/18/2011 10:01       1.04     12346.0  United Kingdom\n",
       "61624   C541433     23166  medium ceramic top storage jar    -74215  1/18/2011 10:17       1.04     12346.0  United Kingdom"
      ]
     },
     "execution_count": 24,
     "metadata": {},
     "output_type": "execute_result"
    }
   ],
   "source": [
    "data[data.CustomerID == 12346]"
   ]
  },
  {
   "cell_type": "markdown",
   "metadata": {},
   "source": [
    "La revición del caso (con CustomerID = 12346) demuestra que tras una compra 'negativa', existe una compra anterior con el mismo valor en positivo. <br>\n",
    "- _Conclusión: Se tratan de devoluciones o compras fallidas._"
   ]
  },
  {
   "cell_type": "markdown",
   "metadata": {},
   "source": [
    "---\n",
    "### _EDA Conclusion_\n",
    "\n",
    "- **Datos Negativos**: Representan devoluciones de productos y/o facturas y se mantendrán.\n",
    "- **CustomerID nullos**: Se eliminarán, ya que **_se trabajará en base a clientes_**.\n",
    "\n"
   ]
  },
  {
   "cell_type": "markdown",
   "metadata": {},
   "source": [
    "---\n",
    "## 3- Preprocessing (Nulls & Formats)"
   ]
  },
  {
   "cell_type": "code",
   "execution_count": 25,
   "metadata": {},
   "outputs": [],
   "source": [
    "# Convertir InvoiceDate a formato fecha\n",
    "data[\"InvoiceDate\"] = pd.to_datetime(data[\"InvoiceDate\"])"
   ]
  },
  {
   "cell_type": "code",
   "execution_count": 26,
   "metadata": {},
   "outputs": [],
   "source": [
    "# Eliminar CustomerID Nulos\n",
    "data = data[~(data.CustomerID.isnull())]"
   ]
  },
  {
   "cell_type": "code",
   "execution_count": 27,
   "metadata": {},
   "outputs": [
    {
     "data": {
      "text/html": [
       "<div>\n",
       "<style scoped>\n",
       "    .dataframe tbody tr th:only-of-type {\n",
       "        vertical-align: middle;\n",
       "    }\n",
       "\n",
       "    .dataframe tbody tr th {\n",
       "        vertical-align: top;\n",
       "    }\n",
       "\n",
       "    .dataframe thead th {\n",
       "        text-align: right;\n",
       "    }\n",
       "</style>\n",
       "<table border=\"1\" class=\"dataframe\">\n",
       "  <thead>\n",
       "    <tr style=\"text-align: right;\">\n",
       "      <th></th>\n",
       "      <th>InvoiceNo</th>\n",
       "      <th>StockCode</th>\n",
       "      <th>Description</th>\n",
       "      <th>Quantity</th>\n",
       "      <th>InvoiceDate</th>\n",
       "      <th>UnitPrice</th>\n",
       "      <th>CustomerID</th>\n",
       "      <th>Country</th>\n",
       "    </tr>\n",
       "  </thead>\n",
       "  <tbody>\n",
       "    <tr>\n",
       "      <th>0</th>\n",
       "      <td>536365</td>\n",
       "      <td>85123A</td>\n",
       "      <td>white hanging heart t-light holder</td>\n",
       "      <td>6</td>\n",
       "      <td>2010-12-01 08:26:00</td>\n",
       "      <td>2.55</td>\n",
       "      <td>17850.0</td>\n",
       "      <td>United Kingdom</td>\n",
       "    </tr>\n",
       "    <tr>\n",
       "      <th>1</th>\n",
       "      <td>536365</td>\n",
       "      <td>71053</td>\n",
       "      <td>white metal lantern</td>\n",
       "      <td>6</td>\n",
       "      <td>2010-12-01 08:26:00</td>\n",
       "      <td>3.39</td>\n",
       "      <td>17850.0</td>\n",
       "      <td>United Kingdom</td>\n",
       "    </tr>\n",
       "    <tr>\n",
       "      <th>2</th>\n",
       "      <td>536365</td>\n",
       "      <td>84406B</td>\n",
       "      <td>cream cupid hearts coat hanger</td>\n",
       "      <td>8</td>\n",
       "      <td>2010-12-01 08:26:00</td>\n",
       "      <td>2.75</td>\n",
       "      <td>17850.0</td>\n",
       "      <td>United Kingdom</td>\n",
       "    </tr>\n",
       "    <tr>\n",
       "      <th>3</th>\n",
       "      <td>536365</td>\n",
       "      <td>84029G</td>\n",
       "      <td>knitted union flag hot water bottle</td>\n",
       "      <td>6</td>\n",
       "      <td>2010-12-01 08:26:00</td>\n",
       "      <td>3.39</td>\n",
       "      <td>17850.0</td>\n",
       "      <td>United Kingdom</td>\n",
       "    </tr>\n",
       "    <tr>\n",
       "      <th>4</th>\n",
       "      <td>536365</td>\n",
       "      <td>84029E</td>\n",
       "      <td>red woolly hottie white heart.</td>\n",
       "      <td>6</td>\n",
       "      <td>2010-12-01 08:26:00</td>\n",
       "      <td>3.39</td>\n",
       "      <td>17850.0</td>\n",
       "      <td>United Kingdom</td>\n",
       "    </tr>\n",
       "  </tbody>\n",
       "</table>\n",
       "</div>"
      ],
      "text/plain": [
       "  InvoiceNo StockCode                          Description  Quantity         InvoiceDate  UnitPrice  CustomerID         Country\n",
       "0    536365    85123A   white hanging heart t-light holder         6 2010-12-01 08:26:00       2.55     17850.0  United Kingdom\n",
       "1    536365     71053                  white metal lantern         6 2010-12-01 08:26:00       3.39     17850.0  United Kingdom\n",
       "2    536365    84406B       cream cupid hearts coat hanger         8 2010-12-01 08:26:00       2.75     17850.0  United Kingdom\n",
       "3    536365    84029G  knitted union flag hot water bottle         6 2010-12-01 08:26:00       3.39     17850.0  United Kingdom\n",
       "4    536365    84029E       red woolly hottie white heart.         6 2010-12-01 08:26:00       3.39     17850.0  United Kingdom"
      ]
     },
     "execution_count": 27,
     "metadata": {},
     "output_type": "execute_result"
    }
   ],
   "source": [
    "# Visualizar el Dataset\n",
    "data.head()"
   ]
  },
  {
   "cell_type": "markdown",
   "metadata": {},
   "source": [
    "---\n",
    "# 3- Feature Engineering"
   ]
  },
  {
   "cell_type": "markdown",
   "metadata": {},
   "source": [
    "### Campo InvoiceDate\n",
    "Nuevas variables de Fecha:\n",
    "- InvoiceYear\n",
    "- InvoiceMonth\n",
    "- InvoiceWeek\n",
    "- InvoiceDay\n",
    "- InvoiceHour\n",
    "- InvoiceTimestamp"
   ]
  },
  {
   "cell_type": "code",
   "execution_count": 28,
   "metadata": {},
   "outputs": [],
   "source": [
    "# Crear variable InvoiceYear\n",
    "data['InvoiceYear'] = data['InvoiceDate'].apply(lambda x: x.year)\n",
    "\n",
    "# Crear variable InvoiceMonth\n",
    "data['InvoiceMonth'] = data['InvoiceDate'].apply(lambda x: x.month)\n",
    "\n",
    "# Crear variable InvoiceWeek\n",
    "data['InvoiceWeek'] = data['InvoiceDate'].apply(lambda x: x.week)\n",
    "\n",
    "# Crear variable InvoiceDay\n",
    "data['InvoiceDay'] = data['InvoiceDate'].apply(lambda x: x.day)\n",
    "\n",
    "# Crear variable InvoiceHour\n",
    "data['InvoiceHour'] = data['InvoiceDate'].apply(lambda x: x.hour)\n",
    "\n",
    "# Crear variable InvoiceTimestamp\n",
    "data['InvoiceTimestamp'] = data['InvoiceDate'].apply(lambda x: round(datetime.timestamp(x)))\n"
   ]
  },
  {
   "cell_type": "markdown",
   "metadata": {},
   "source": [
    "### Campo TotalPrice"
   ]
  },
  {
   "cell_type": "code",
   "execution_count": 29,
   "metadata": {},
   "outputs": [],
   "source": [
    "# Crear TotalPrice UnitPrice * Quantity\n",
    "data['TotalPrice'] = data['UnitPrice'] * data['Quantity']\n"
   ]
  },
  {
   "cell_type": "markdown",
   "metadata": {},
   "source": [
    "### First_Invoice"
   ]
  },
  {
   "cell_type": "code",
   "execution_count": 30,
   "metadata": {},
   "outputs": [
    {
     "data": {
      "text/html": [
       "<div>\n",
       "<style scoped>\n",
       "    .dataframe tbody tr th:only-of-type {\n",
       "        vertical-align: middle;\n",
       "    }\n",
       "\n",
       "    .dataframe tbody tr th {\n",
       "        vertical-align: top;\n",
       "    }\n",
       "\n",
       "    .dataframe thead th {\n",
       "        text-align: right;\n",
       "    }\n",
       "</style>\n",
       "<table border=\"1\" class=\"dataframe\">\n",
       "  <thead>\n",
       "    <tr style=\"text-align: right;\">\n",
       "      <th></th>\n",
       "      <th>InvoiceNo</th>\n",
       "      <th>StockCode</th>\n",
       "      <th>Description</th>\n",
       "      <th>Quantity</th>\n",
       "      <th>InvoiceDate</th>\n",
       "      <th>UnitPrice</th>\n",
       "      <th>CustomerID</th>\n",
       "      <th>Country</th>\n",
       "      <th>InvoiceYear</th>\n",
       "      <th>InvoiceMonth</th>\n",
       "      <th>InvoiceWeek</th>\n",
       "      <th>InvoiceDay</th>\n",
       "      <th>InvoiceHour</th>\n",
       "      <th>InvoiceTimestamp</th>\n",
       "      <th>TotalPrice</th>\n",
       "    </tr>\n",
       "  </thead>\n",
       "  <tbody>\n",
       "    <tr>\n",
       "      <th>0</th>\n",
       "      <td>536365</td>\n",
       "      <td>85123A</td>\n",
       "      <td>white hanging heart t-light holder</td>\n",
       "      <td>6</td>\n",
       "      <td>2010-12-01 08:26:00</td>\n",
       "      <td>2.55</td>\n",
       "      <td>17850.0</td>\n",
       "      <td>United Kingdom</td>\n",
       "      <td>2010</td>\n",
       "      <td>12</td>\n",
       "      <td>48</td>\n",
       "      <td>1</td>\n",
       "      <td>8</td>\n",
       "      <td>1291188360</td>\n",
       "      <td>15.30</td>\n",
       "    </tr>\n",
       "    <tr>\n",
       "      <th>1</th>\n",
       "      <td>536365</td>\n",
       "      <td>71053</td>\n",
       "      <td>white metal lantern</td>\n",
       "      <td>6</td>\n",
       "      <td>2010-12-01 08:26:00</td>\n",
       "      <td>3.39</td>\n",
       "      <td>17850.0</td>\n",
       "      <td>United Kingdom</td>\n",
       "      <td>2010</td>\n",
       "      <td>12</td>\n",
       "      <td>48</td>\n",
       "      <td>1</td>\n",
       "      <td>8</td>\n",
       "      <td>1291188360</td>\n",
       "      <td>20.34</td>\n",
       "    </tr>\n",
       "    <tr>\n",
       "      <th>2</th>\n",
       "      <td>536365</td>\n",
       "      <td>84406B</td>\n",
       "      <td>cream cupid hearts coat hanger</td>\n",
       "      <td>8</td>\n",
       "      <td>2010-12-01 08:26:00</td>\n",
       "      <td>2.75</td>\n",
       "      <td>17850.0</td>\n",
       "      <td>United Kingdom</td>\n",
       "      <td>2010</td>\n",
       "      <td>12</td>\n",
       "      <td>48</td>\n",
       "      <td>1</td>\n",
       "      <td>8</td>\n",
       "      <td>1291188360</td>\n",
       "      <td>22.00</td>\n",
       "    </tr>\n",
       "    <tr>\n",
       "      <th>3</th>\n",
       "      <td>536365</td>\n",
       "      <td>84029G</td>\n",
       "      <td>knitted union flag hot water bottle</td>\n",
       "      <td>6</td>\n",
       "      <td>2010-12-01 08:26:00</td>\n",
       "      <td>3.39</td>\n",
       "      <td>17850.0</td>\n",
       "      <td>United Kingdom</td>\n",
       "      <td>2010</td>\n",
       "      <td>12</td>\n",
       "      <td>48</td>\n",
       "      <td>1</td>\n",
       "      <td>8</td>\n",
       "      <td>1291188360</td>\n",
       "      <td>20.34</td>\n",
       "    </tr>\n",
       "    <tr>\n",
       "      <th>4</th>\n",
       "      <td>536365</td>\n",
       "      <td>84029E</td>\n",
       "      <td>red woolly hottie white heart.</td>\n",
       "      <td>6</td>\n",
       "      <td>2010-12-01 08:26:00</td>\n",
       "      <td>3.39</td>\n",
       "      <td>17850.0</td>\n",
       "      <td>United Kingdom</td>\n",
       "      <td>2010</td>\n",
       "      <td>12</td>\n",
       "      <td>48</td>\n",
       "      <td>1</td>\n",
       "      <td>8</td>\n",
       "      <td>1291188360</td>\n",
       "      <td>20.34</td>\n",
       "    </tr>\n",
       "  </tbody>\n",
       "</table>\n",
       "</div>"
      ],
      "text/plain": [
       "  InvoiceNo StockCode                          Description  Quantity         InvoiceDate  UnitPrice  CustomerID         Country  InvoiceYear  InvoiceMonth  InvoiceWeek  InvoiceDay  InvoiceHour  InvoiceTimestamp  TotalPrice\n",
       "0    536365    85123A   white hanging heart t-light holder         6 2010-12-01 08:26:00       2.55     17850.0  United Kingdom         2010            12           48           1            8        1291188360       15.30\n",
       "1    536365     71053                  white metal lantern         6 2010-12-01 08:26:00       3.39     17850.0  United Kingdom         2010            12           48           1            8        1291188360       20.34\n",
       "2    536365    84406B       cream cupid hearts coat hanger         8 2010-12-01 08:26:00       2.75     17850.0  United Kingdom         2010            12           48           1            8        1291188360       22.00\n",
       "3    536365    84029G  knitted union flag hot water bottle         6 2010-12-01 08:26:00       3.39     17850.0  United Kingdom         2010            12           48           1            8        1291188360       20.34\n",
       "4    536365    84029E       red woolly hottie white heart.         6 2010-12-01 08:26:00       3.39     17850.0  United Kingdom         2010            12           48           1            8        1291188360       20.34"
      ]
     },
     "execution_count": 30,
     "metadata": {},
     "output_type": "execute_result"
    }
   ],
   "source": [
    "data.head()"
   ]
  },
  {
   "cell_type": "markdown",
   "metadata": {},
   "source": [
    "# Plot"
   ]
  },
  {
   "cell_type": "code",
   "execution_count": 31,
   "metadata": {},
   "outputs": [],
   "source": [
    "# Make DataFrame with Revenue and customers by Week\n",
    "week_customers = pd.pivot_table(\n",
    "    columns='InvoiceWeek', \n",
    "    data=data[data.InvoiceYear == 2011], \n",
    "    aggfunc={'TotalPrice': np.sum, 'CustomerID': 'nunique'})"
   ]
  },
  {
   "cell_type": "code",
   "execution_count": 32,
   "metadata": {
    "scrolled": false
   },
   "outputs": [
    {
     "data": {
      "image/png": "[encoded data removed]",
      "text/plain": [
       "<Figure size 1080x432 with 1 Axes>"
      ]
     },
     "metadata": {
      "needs_background": "light"
     },
     "output_type": "display_data"
    }
   ],
   "source": [
    "# Make BarPlot\n",
    "plt.figure(figsize=(15, 6))\n",
    "sns.barplot(x=\"InvoiceWeek\", y=\"TotalPrice\", data=week_customers.T.reset_index(), color='steelblue', linewidth=0)\n",
    "sns.regplot(x='InvoiceWeek',y='TotalPrice',data=week_customers.T.reset_index(), fit_reg=True,scatter=False, color= 'red') \n",
    "\n",
    "# setup plot\n",
    "plt.title(\"Total Revenue by Week\", loc=\"left\", fontsize='19')\n",
    "plt.xlabel(\"Number of Weeks\", fontsize='14')\n",
    "plt.ylabel(\"Revenue\", fontsize='14')\n",
    "plt.show()"
   ]
  },
  {
   "cell_type": "code",
   "execution_count": 33,
   "metadata": {},
   "outputs": [
    {
     "data": {
      "image/png": "[encoded data removed]",
      "text/plain": [
       "<Figure size 1080x432 with 1 Axes>"
      ]
     },
     "metadata": {
      "needs_background": "light"
     },
     "output_type": "display_data"
    }
   ],
   "source": [
    "# Make BarPlot\n",
    "plt.figure(figsize=(15, 6))\n",
    "sns.barplot(x=\"InvoiceWeek\", y=\"CustomerID\", data=week_customers.T.reset_index(), color='steelblue', linewidth=0)\n",
    "sns.regplot(x='InvoiceWeek',y='CustomerID',data=week_customers.T.reset_index(), fit_reg=True,scatter=False, color= 'red') \n",
    "\n",
    "# setup plot\n",
    "plt.title(\"Total Customer by Week\", loc=\"left\", fontsize='19')\n",
    "plt.xlabel(\"Number of Weeks\", fontsize='14')\n",
    "plt.ylabel(\"Customer\", fontsize='14')\n",
    "plt.show()"
   ]
  },
  {
   "cell_type": "code",
   "execution_count": 34,
   "metadata": {},
   "outputs": [
    {
     "data": {
      "text/plain": [
       "<matplotlib.axes._subplots.AxesSubplot at 0x113870a0d68>"
      ]
     },
     "execution_count": 34,
     "metadata": {},
     "output_type": "execute_result"
    },
    {
     "data": {
      "image/png": "[encoded data removed]",
      "text/plain": [
       "<Figure size 432x288 with 2 Axes>"
      ]
     },
     "metadata": {
      "needs_background": "light"
     },
     "output_type": "display_data"
    }
   ],
   "source": [
    "sns.heatmap(week_customers.corr())"
   ]
  },
  {
   "cell_type": "code",
   "execution_count": null,
   "metadata": {},
   "outputs": [],
   "source": []
  }
 ],
 "metadata": {
  "kernelspec": {
   "display_name": "Python 3",
   "language": "python",
   "name": "python3"
  },
  "language_info": {
   "codemirror_mode": {
    "name": "ipython",
    "version": 3
   },
   "file_extension": ".py",
   "mimetype": "text/x-python",
   "name": "python",
   "nbconvert_exporter": "python",
   "pygments_lexer": "ipython3",
   "version": "3.7.3"
  }
 },
 "nbformat": 4,
 "nbformat_minor": 2
}
